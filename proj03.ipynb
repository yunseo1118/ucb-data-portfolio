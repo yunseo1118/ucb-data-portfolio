{
 "cells": [
  {
   "cell_type": "markdown",
   "metadata": {},
   "source": [
    "# Project 3: Text Analysis of New York Times Articles"
   ]
  },
  {
   "cell_type": "code",
   "execution_count": 1,
   "metadata": {},
   "outputs": [],
   "source": [
    "# Run this cell to set up your notebook. \n",
    "import warnings\n",
    "warnings.simplefilter(action=\"ignore\")\n",
    "\n",
    "import re\n",
    "import itertools\n",
    "import numpy as np\n",
    "import pandas as pd\n",
    "import seaborn as sns\n",
    "import matplotlib.pyplot as plt\n",
    "\n",
    "from ds100_utils import *\n",
    "\n",
    "# Ensure that pandas shows at least 280 characters in columns, so we can see full articles.\n",
    "pd.set_option(\"max_colwidth\", 280)\n",
    "plt.style.use(\"fivethirtyeight\")\n",
    "sns.set()\n",
    "sns.set_context(\"talk\")\n",
    "sns.set_palette(\"colorblind\")"
   ]
  },
  {
   "cell_type": "markdown",
   "metadata": {},
   "source": [
    "In this project, I will use the [DistilBERT model](https://medium.com/huggingface/distilbert-8cf3380435b5), a Natural Language Processing (NLP) model designed to capture the context and meaning of words within sentences.\n",
    "\n",
    "\n",
    "## ⚠️ IMPORTANT NOTE\n",
    "\n",
    "Due to limited computing resources on DataHub, the cell below **may take a significant amount of time to run** (potentially several minutes). This may also apply to other cells later in the assignment that load and use the NLP model.\n"
   ]
  },
  {
   "cell_type": "markdown",
   "metadata": {},
   "source": [
    "<hr style=\"border: 5px solid #003262;\" />\n",
    "<hr style=\"border: 1px solid #fdb515;\" />\n",
    "\n",
    "## Section 1: Importing the Data\n",
    "\n",
    "The data for this project is sourced from the [New York Times (NYT) Archive API](https://developer.nytimes.com/docs/archive-product/1/overview), which provides information about articles published in the past.\n",
    "\n",
    "The file `data/nyt_articles.txt` contains filtered data of specific NYT articles published between 2019 and 2024 (inclusive). Each article discusses trending topics."
   ]
  },
  {
   "cell_type": "markdown",
   "metadata": {
    "deletable": false,
    "editable": false
   },
   "source": [
    "<br>\n",
    "\n",
    "---\n",
    "\n",
    "### Part 1\n",
    "\n",
    "Let's examine the contents of the `data/nyt_articles.txt` file.\n",
    "\n",
    "Using the [`open()` function](https://docs.python.org/3/library/functions.html#open) and the [`read()` method](https://docs.python.org/3/tutorial/inputoutput.html#methods-of-file-objects) of a `python` file object, I read **the first 330 characters** of the file `data/nyt_articles.txt` and store the result in the variable `s1`. Then, print the result to inspect it."
   ]
  },
  {
   "cell_type": "code",
   "execution_count": 2,
   "metadata": {
    "tags": [
     "otter_answer_cell"
    ]
   },
   "outputs": [
    {
     "name": "stdout",
     "output_type": "stream",
     "text": [
      "[{\"web_url\":\"https:\\/\\/www.nytimes.com\\/2019\\/01\\/01\\/us\\/politics\\/elizabeth-warren-president.html\",\"pub_date\":\"2019-01-01T05:18:48+0000\",\"lead_paragraph\":\"Good Tuesday morning and Happy New Year. Here are some of the stories making news in Washington and politics today.\"},{\"web_url\":\"https:\\/\\/www.nytimes.com\\/2019\\/01\\/01\\/ar\n"
     ]
    }
   ],
   "source": [
    "with open(\"data/nyt_articles.txt\") as file:\n",
    "    s1 = file.read(330)\n",
    "print(s1)"
   ]
  },
  {
   "cell_type": "markdown",
   "metadata": {
    "deletable": false,
    "editable": false
   },
   "source": [
    "<br>\n",
    "\n",
    "---\n",
    "\n",
    "###  Part 2\n",
    "`pandas` has built-in readers for many different file formats.\n",
    "\n",
    "I will load the file `data/nyt_articles.txt` as a `DataFrame`, and store it in the variable `news_df`."
   ]
  },
  {
   "cell_type": "code",
   "execution_count": 3,
   "metadata": {
    "tags": [
     "otter_answer_cell"
    ]
   },
   "outputs": [
    {
     "data": {
      "text/html": [
       "<div>\n",
       "<style scoped>\n",
       "    .dataframe tbody tr th:only-of-type {\n",
       "        vertical-align: middle;\n",
       "    }\n",
       "\n",
       "    .dataframe tbody tr th {\n",
       "        vertical-align: top;\n",
       "    }\n",
       "\n",
       "    .dataframe thead th {\n",
       "        text-align: right;\n",
       "    }\n",
       "</style>\n",
       "<table border=\"1\" class=\"dataframe\">\n",
       "  <thead>\n",
       "    <tr style=\"text-align: right;\">\n",
       "      <th></th>\n",
       "      <th>web_url</th>\n",
       "      <th>pub_date</th>\n",
       "      <th>lead_paragraph</th>\n",
       "    </tr>\n",
       "  </thead>\n",
       "  <tbody>\n",
       "    <tr>\n",
       "      <th>0</th>\n",
       "      <td>https://www.nytimes.com/2019/01/01/us/politics/elizabeth-warren-president.html</td>\n",
       "      <td>2019-01-01T05:18:48+0000</td>\n",
       "      <td>Good Tuesday morning and Happy New Year. Here are some of the stories making news in Washington and politics today.</td>\n",
       "    </tr>\n",
       "    <tr>\n",
       "      <th>1</th>\n",
       "      <td>https://www.nytimes.com/2019/01/01/arts/television/whats-on-tv-tuesday-marie-kondo-doctor-who.html</td>\n",
       "      <td>2019-01-01T06:00:04+0000</td>\n",
       "      <td>Ring in the new year with some organization inspiration, courtesy of Marie Kondo, and the first-ever \"Doctor Who\" New Year’s Day special.</td>\n",
       "    </tr>\n",
       "    <tr>\n",
       "      <th>2</th>\n",
       "      <td>https://www.nytimes.com/2019/01/01/travel/three-new-years-resolutions-for-better-travel-in-2019.html</td>\n",
       "      <td>2019-01-01T10:00:06+0000</td>\n",
       "      <td>It’s not uncommon for people to set unrealistic expectations when making New Year’s resolutions, which likely contributes to most of them failing. Over 90 percent of them do, according to research by the University of Scranton.</td>\n",
       "    </tr>\n",
       "    <tr>\n",
       "      <th>3</th>\n",
       "      <td>https://www.nytimes.com/2019/01/01/world/europe/russia-baby-rescue.html</td>\n",
       "      <td>2019-01-01T16:41:24+0000</td>\n",
       "      <td>MOSCOW — Rescue workers pulled a 10-month-old baby boy alive from a partly collapsed apartment building in central Russia on Tuesday, calling him a \"New Year miracle\" after he survived in the rubble for more than 35 hours in freezing temperatures.</td>\n",
       "    </tr>\n",
       "    <tr>\n",
       "      <th>4</th>\n",
       "      <td>https://www.nytimes.com/2019/01/01/world/europe/germany-foreigners-attack.html</td>\n",
       "      <td>2019-01-01T17:57:51+0000</td>\n",
       "      <td>BERLIN — Targeting foreigners, a man repeatedly drove his car at pedestrians celebrating New Year’s Eve in western Germany, injuring four people before being arrested, the police and prosecutors said Tuesday.</td>\n",
       "    </tr>\n",
       "  </tbody>\n",
       "</table>\n",
       "</div>"
      ],
      "text/plain": [
       "                                                                                                web_url  \\\n",
       "0                        https://www.nytimes.com/2019/01/01/us/politics/elizabeth-warren-president.html   \n",
       "1    https://www.nytimes.com/2019/01/01/arts/television/whats-on-tv-tuesday-marie-kondo-doctor-who.html   \n",
       "2  https://www.nytimes.com/2019/01/01/travel/three-new-years-resolutions-for-better-travel-in-2019.html   \n",
       "3                               https://www.nytimes.com/2019/01/01/world/europe/russia-baby-rescue.html   \n",
       "4                        https://www.nytimes.com/2019/01/01/world/europe/germany-foreigners-attack.html   \n",
       "\n",
       "                   pub_date  \\\n",
       "0  2019-01-01T05:18:48+0000   \n",
       "1  2019-01-01T06:00:04+0000   \n",
       "2  2019-01-01T10:00:06+0000   \n",
       "3  2019-01-01T16:41:24+0000   \n",
       "4  2019-01-01T17:57:51+0000   \n",
       "\n",
       "                                                                                                                                                                                                                                            lead_paragraph  \n",
       "0                                                                                                                                      Good Tuesday morning and Happy New Year. Here are some of the stories making news in Washington and politics today.  \n",
       "1                                                                                                                Ring in the new year with some organization inspiration, courtesy of Marie Kondo, and the first-ever \"Doctor Who\" New Year’s Day special.  \n",
       "2                      It’s not uncommon for people to set unrealistic expectations when making New Year’s resolutions, which likely contributes to most of them failing. Over 90 percent of them do, according to research by the University of Scranton.  \n",
       "3  MOSCOW — Rescue workers pulled a 10-month-old baby boy alive from a partly collapsed apartment building in central Russia on Tuesday, calling him a \"New Year miracle\" after he survived in the rubble for more than 35 hours in freezing temperatures.  \n",
       "4                                         BERLIN — Targeting foreigners, a man repeatedly drove his car at pedestrians celebrating New Year’s Eve in western Germany, injuring four people before being arrested, the police and prosecutors said Tuesday.  "
      ]
     },
     "execution_count": 3,
     "metadata": {},
     "output_type": "execute_result"
    }
   ],
   "source": [
    "news_df = pd.read_json(\"data/nyt_articles.txt\")\n",
    "news_df.head()"
   ]
  },
  {
   "cell_type": "markdown",
   "metadata": {
    "deletable": false,
    "editable": false
   },
   "source": [
    "<br/>\n",
    "\n",
    "<hr style=\"border: 1px solid #fdb515;\" />\n",
    "\n",
    "##  Section 2: Topic Trends Over Time\n",
    "\n",
    "Now that the NYT data is loaded, i'll analyze trends in different topics. This will help understand how various subjects have evolved over the years and identify any significant patterns or shifts in public interest.\n",
    "\n",
    "I will start by extracting date and time information from the articles and then proceed to analyze the frequency and context of specific topics mentioned in the articles.\n",
    "\n",
    "\n",
    "<br>\n"
   ]
  },
  {
   "attachments": {},
   "cell_type": "markdown",
   "metadata": {
    "deletable": false,
    "editable": false
   },
   "source": [
    "---\n",
    "\n",
    "###  Part 1\n",
    "\n",
    "In this part, I will process the `pub_date` column of our dataset to canonicalize time-related data.\n",
    "This will help me investigate the trend of news articles across units of time like years, months, and seasons.\n",
    "\n",
    "\n",
    "I will Create a new `DataFrame` called `dates` that contains:\n",
    "1. The same index as `news_df`\n",
    "2. Three columns: `Month`, `Year`, and `Minute`, which contain the month, year, and minute, respectively, that each article was published.\n",
    "\n",
    "Additionally, convert all numerical values (`Month`, `Year`, `Minute`) to type `int`."
   ]
  },
  {
   "cell_type": "code",
   "execution_count": 4,
   "metadata": {
    "tags": [
     "otter_answer_cell"
    ]
   },
   "outputs": [
    {
     "data": {
      "text/html": [
       "<div>\n",
       "<style scoped>\n",
       "    .dataframe tbody tr th:only-of-type {\n",
       "        vertical-align: middle;\n",
       "    }\n",
       "\n",
       "    .dataframe tbody tr th {\n",
       "        vertical-align: top;\n",
       "    }\n",
       "\n",
       "    .dataframe thead th {\n",
       "        text-align: right;\n",
       "    }\n",
       "</style>\n",
       "<table border=\"1\" class=\"dataframe\">\n",
       "  <thead>\n",
       "    <tr style=\"text-align: right;\">\n",
       "      <th></th>\n",
       "      <th>Year</th>\n",
       "      <th>Month</th>\n",
       "      <th>Minute</th>\n",
       "    </tr>\n",
       "  </thead>\n",
       "  <tbody>\n",
       "    <tr>\n",
       "      <th>0</th>\n",
       "      <td>2019</td>\n",
       "      <td>1</td>\n",
       "      <td>18</td>\n",
       "    </tr>\n",
       "    <tr>\n",
       "      <th>1</th>\n",
       "      <td>2019</td>\n",
       "      <td>1</td>\n",
       "      <td>0</td>\n",
       "    </tr>\n",
       "    <tr>\n",
       "      <th>2</th>\n",
       "      <td>2019</td>\n",
       "      <td>1</td>\n",
       "      <td>0</td>\n",
       "    </tr>\n",
       "    <tr>\n",
       "      <th>3</th>\n",
       "      <td>2019</td>\n",
       "      <td>1</td>\n",
       "      <td>41</td>\n",
       "    </tr>\n",
       "    <tr>\n",
       "      <th>4</th>\n",
       "      <td>2019</td>\n",
       "      <td>1</td>\n",
       "      <td>57</td>\n",
       "    </tr>\n",
       "    <tr>\n",
       "      <th>...</th>\n",
       "      <td>...</td>\n",
       "      <td>...</td>\n",
       "      <td>...</td>\n",
       "    </tr>\n",
       "    <tr>\n",
       "      <th>1880</th>\n",
       "      <td>2024</td>\n",
       "      <td>12</td>\n",
       "      <td>0</td>\n",
       "    </tr>\n",
       "    <tr>\n",
       "      <th>1881</th>\n",
       "      <td>2024</td>\n",
       "      <td>12</td>\n",
       "      <td>14</td>\n",
       "    </tr>\n",
       "    <tr>\n",
       "      <th>1882</th>\n",
       "      <td>2024</td>\n",
       "      <td>12</td>\n",
       "      <td>16</td>\n",
       "    </tr>\n",
       "    <tr>\n",
       "      <th>1883</th>\n",
       "      <td>2024</td>\n",
       "      <td>12</td>\n",
       "      <td>18</td>\n",
       "    </tr>\n",
       "    <tr>\n",
       "      <th>1884</th>\n",
       "      <td>2024</td>\n",
       "      <td>12</td>\n",
       "      <td>7</td>\n",
       "    </tr>\n",
       "  </tbody>\n",
       "</table>\n",
       "<p>1885 rows × 3 columns</p>\n",
       "</div>"
      ],
      "text/plain": [
       "      Year  Month  Minute\n",
       "0     2019      1      18\n",
       "1     2019      1       0\n",
       "2     2019      1       0\n",
       "3     2019      1      41\n",
       "4     2019      1      57\n",
       "...    ...    ...     ...\n",
       "1880  2024     12       0\n",
       "1881  2024     12      14\n",
       "1882  2024     12      16\n",
       "1883  2024     12      18\n",
       "1884  2024     12       7\n",
       "\n",
       "[1885 rows x 3 columns]"
      ]
     },
     "execution_count": 4,
     "metadata": {},
     "output_type": "execute_result"
    }
   ],
   "source": [
    "dates = news_df[\"pub_date\"].str.extract(r\"(?P<Year>\\d{4})-(?P<Month>\\d{2})-\\d{2}T\\d{2}:(?P<Minute>\\d{2})\")\n",
    "dates = dates.astype(int)\n",
    "dates.index = news_df.index\n",
    "dates"
   ]
  },
  {
   "cell_type": "markdown",
   "metadata": {
    "deletable": false,
    "editable": false
   },
   "source": [
    "\n",
    "I aim to analyze topic trends over time by merging news article data with corresponding date and time data. \n",
    "\n",
    "Use the `pd.DataFrame.merge` [documentation](https://pandas.pydata.org/docs/reference/api/pandas.DataFrame.merge.html) to merge the `dates` `DataFrame` with the `news_df` `DataFrame`. Ensure that `news_df` is the left `DataFrame` and `dates` is the right `DataFrame` in the merge operation.\n",
    "\n",
    "Assign the merged `DataFrame` to a variable named `news_df_dates`."
   ]
  },
  {
   "cell_type": "code",
   "execution_count": 5,
   "metadata": {
    "tags": [
     "otter_answer_cell"
    ]
   },
   "outputs": [
    {
     "data": {
      "text/html": [
       "<div>\n",
       "<style scoped>\n",
       "    .dataframe tbody tr th:only-of-type {\n",
       "        vertical-align: middle;\n",
       "    }\n",
       "\n",
       "    .dataframe tbody tr th {\n",
       "        vertical-align: top;\n",
       "    }\n",
       "\n",
       "    .dataframe thead th {\n",
       "        text-align: right;\n",
       "    }\n",
       "</style>\n",
       "<table border=\"1\" class=\"dataframe\">\n",
       "  <thead>\n",
       "    <tr style=\"text-align: right;\">\n",
       "      <th></th>\n",
       "      <th>web_url</th>\n",
       "      <th>pub_date</th>\n",
       "      <th>lead_paragraph</th>\n",
       "      <th>Year</th>\n",
       "      <th>Month</th>\n",
       "      <th>Minute</th>\n",
       "    </tr>\n",
       "  </thead>\n",
       "  <tbody>\n",
       "    <tr>\n",
       "      <th>0</th>\n",
       "      <td>https://www.nytimes.com/2019/01/01/us/politics/elizabeth-warren-president.html</td>\n",
       "      <td>2019-01-01T05:18:48+0000</td>\n",
       "      <td>Good Tuesday morning and Happy New Year. Here are some of the stories making news in Washington and politics today.</td>\n",
       "      <td>2019</td>\n",
       "      <td>1</td>\n",
       "      <td>18</td>\n",
       "    </tr>\n",
       "    <tr>\n",
       "      <th>1</th>\n",
       "      <td>https://www.nytimes.com/2019/01/01/arts/television/whats-on-tv-tuesday-marie-kondo-doctor-who.html</td>\n",
       "      <td>2019-01-01T06:00:04+0000</td>\n",
       "      <td>Ring in the new year with some organization inspiration, courtesy of Marie Kondo, and the first-ever \"Doctor Who\" New Year’s Day special.</td>\n",
       "      <td>2019</td>\n",
       "      <td>1</td>\n",
       "      <td>0</td>\n",
       "    </tr>\n",
       "    <tr>\n",
       "      <th>2</th>\n",
       "      <td>https://www.nytimes.com/2019/01/01/travel/three-new-years-resolutions-for-better-travel-in-2019.html</td>\n",
       "      <td>2019-01-01T10:00:06+0000</td>\n",
       "      <td>It’s not uncommon for people to set unrealistic expectations when making New Year’s resolutions, which likely contributes to most of them failing. Over 90 percent of them do, according to research by the University of Scranton.</td>\n",
       "      <td>2019</td>\n",
       "      <td>1</td>\n",
       "      <td>0</td>\n",
       "    </tr>\n",
       "    <tr>\n",
       "      <th>3</th>\n",
       "      <td>https://www.nytimes.com/2019/01/01/world/europe/russia-baby-rescue.html</td>\n",
       "      <td>2019-01-01T16:41:24+0000</td>\n",
       "      <td>MOSCOW — Rescue workers pulled a 10-month-old baby boy alive from a partly collapsed apartment building in central Russia on Tuesday, calling him a \"New Year miracle\" after he survived in the rubble for more than 35 hours in freezing temperatures.</td>\n",
       "      <td>2019</td>\n",
       "      <td>1</td>\n",
       "      <td>41</td>\n",
       "    </tr>\n",
       "    <tr>\n",
       "      <th>4</th>\n",
       "      <td>https://www.nytimes.com/2019/01/01/world/europe/germany-foreigners-attack.html</td>\n",
       "      <td>2019-01-01T17:57:51+0000</td>\n",
       "      <td>BERLIN — Targeting foreigners, a man repeatedly drove his car at pedestrians celebrating New Year’s Eve in western Germany, injuring four people before being arrested, the police and prosecutors said Tuesday.</td>\n",
       "      <td>2019</td>\n",
       "      <td>1</td>\n",
       "      <td>57</td>\n",
       "    </tr>\n",
       "    <tr>\n",
       "      <th>...</th>\n",
       "      <td>...</td>\n",
       "      <td>...</td>\n",
       "      <td>...</td>\n",
       "      <td>...</td>\n",
       "      <td>...</td>\n",
       "      <td>...</td>\n",
       "    </tr>\n",
       "    <tr>\n",
       "      <th>1880</th>\n",
       "      <td>https://www.nytimes.com/2024/12/31/crosswords/wordle-review-1292.html</td>\n",
       "      <td>2024-12-31T11:00:02+0000</td>\n",
       "      <td>Welcome to The Wordle Review. Be warned: This page contains spoilers for today’s puzzle. Solve Wordle first, or scroll at your own risk.</td>\n",
       "      <td>2024</td>\n",
       "      <td>12</td>\n",
       "      <td>0</td>\n",
       "    </tr>\n",
       "    <tr>\n",
       "      <th>1881</th>\n",
       "      <td>https://www.nytimes.com/2024/12/31/world/europe/new-years-eve-edinburgh-hogmanay-weather-canceled.html</td>\n",
       "      <td>2024-12-31T11:14:16+0000</td>\n",
       "      <td>The famed Hogmanay street party on New Year’s Eve in Edinburgh, the Scottish capital, has been canceled because of forecasts of rain, strong winds and snow.</td>\n",
       "      <td>2024</td>\n",
       "      <td>12</td>\n",
       "      <td>14</td>\n",
       "    </tr>\n",
       "    <tr>\n",
       "      <th>1882</th>\n",
       "      <td>https://www.nytimes.com/2024/12/31/us/puerto-rico-power-blackout.html</td>\n",
       "      <td>2024-12-31T14:16:12+0000</td>\n",
       "      <td>A sweeping blackout hit Puerto Rico early Tuesday morning, plunging nearly all of the island into darkness on New Year’s Eve.</td>\n",
       "      <td>2024</td>\n",
       "      <td>12</td>\n",
       "      <td>16</td>\n",
       "    </tr>\n",
       "    <tr>\n",
       "      <th>1883</th>\n",
       "      <td>https://www.nytimes.com/2024/12/31/world/new-years-eve-photos.html</td>\n",
       "      <td>2024-12-31T15:18:44+0000</td>\n",
       "      <td>In plazas and parks and bars and homes across the globe, people gathered to commemorate the end of 2024 and welcome the New Year. Bold swimmers plunged into a frigid lake in Switzerland, joggers in Poland took one last whimsical run of the year and fireworks crackled in citie...</td>\n",
       "      <td>2024</td>\n",
       "      <td>12</td>\n",
       "      <td>18</td>\n",
       "    </tr>\n",
       "    <tr>\n",
       "      <th>1884</th>\n",
       "      <td>https://www.nytimes.com/2024/12/31/nyregion/restaurants-new-years-eve-times-square.html</td>\n",
       "      <td>2024-12-31T16:07:45+0000</td>\n",
       "      <td>For many New Yorkers, Times Square on New Year’s Eve brings to mind one word: Nope.</td>\n",
       "      <td>2024</td>\n",
       "      <td>12</td>\n",
       "      <td>7</td>\n",
       "    </tr>\n",
       "  </tbody>\n",
       "</table>\n",
       "<p>1885 rows × 6 columns</p>\n",
       "</div>"
      ],
      "text/plain": [
       "                                                                                                     web_url  \\\n",
       "0                             https://www.nytimes.com/2019/01/01/us/politics/elizabeth-warren-president.html   \n",
       "1         https://www.nytimes.com/2019/01/01/arts/television/whats-on-tv-tuesday-marie-kondo-doctor-who.html   \n",
       "2       https://www.nytimes.com/2019/01/01/travel/three-new-years-resolutions-for-better-travel-in-2019.html   \n",
       "3                                    https://www.nytimes.com/2019/01/01/world/europe/russia-baby-rescue.html   \n",
       "4                             https://www.nytimes.com/2019/01/01/world/europe/germany-foreigners-attack.html   \n",
       "...                                                                                                      ...   \n",
       "1880                                   https://www.nytimes.com/2024/12/31/crosswords/wordle-review-1292.html   \n",
       "1881  https://www.nytimes.com/2024/12/31/world/europe/new-years-eve-edinburgh-hogmanay-weather-canceled.html   \n",
       "1882                                   https://www.nytimes.com/2024/12/31/us/puerto-rico-power-blackout.html   \n",
       "1883                                      https://www.nytimes.com/2024/12/31/world/new-years-eve-photos.html   \n",
       "1884                 https://www.nytimes.com/2024/12/31/nyregion/restaurants-new-years-eve-times-square.html   \n",
       "\n",
       "                      pub_date  \\\n",
       "0     2019-01-01T05:18:48+0000   \n",
       "1     2019-01-01T06:00:04+0000   \n",
       "2     2019-01-01T10:00:06+0000   \n",
       "3     2019-01-01T16:41:24+0000   \n",
       "4     2019-01-01T17:57:51+0000   \n",
       "...                        ...   \n",
       "1880  2024-12-31T11:00:02+0000   \n",
       "1881  2024-12-31T11:14:16+0000   \n",
       "1882  2024-12-31T14:16:12+0000   \n",
       "1883  2024-12-31T15:18:44+0000   \n",
       "1884  2024-12-31T16:07:45+0000   \n",
       "\n",
       "                                                                                                                                                                                                                                                                               lead_paragraph  \\\n",
       "0                                                                                                                                                                         Good Tuesday morning and Happy New Year. Here are some of the stories making news in Washington and politics today.   \n",
       "1                                                                                                                                                   Ring in the new year with some organization inspiration, courtesy of Marie Kondo, and the first-ever \"Doctor Who\" New Year’s Day special.   \n",
       "2                                                         It’s not uncommon for people to set unrealistic expectations when making New Year’s resolutions, which likely contributes to most of them failing. Over 90 percent of them do, according to research by the University of Scranton.   \n",
       "3                                     MOSCOW — Rescue workers pulled a 10-month-old baby boy alive from a partly collapsed apartment building in central Russia on Tuesday, calling him a \"New Year miracle\" after he survived in the rubble for more than 35 hours in freezing temperatures.   \n",
       "4                                                                            BERLIN — Targeting foreigners, a man repeatedly drove his car at pedestrians celebrating New Year’s Eve in western Germany, injuring four people before being arrested, the police and prosecutors said Tuesday.   \n",
       "...                                                                                                                                                                                                                                                                                       ...   \n",
       "1880                                                                                                                                                 Welcome to The Wordle Review. Be warned: This page contains spoilers for today’s puzzle. Solve Wordle first, or scroll at your own risk.   \n",
       "1881                                                                                                                             The famed Hogmanay street party on New Year’s Eve in Edinburgh, the Scottish capital, has been canceled because of forecasts of rain, strong winds and snow.   \n",
       "1882                                                                                                                                                            A sweeping blackout hit Puerto Rico early Tuesday morning, plunging nearly all of the island into darkness on New Year’s Eve.   \n",
       "1883  In plazas and parks and bars and homes across the globe, people gathered to commemorate the end of 2024 and welcome the New Year. Bold swimmers plunged into a frigid lake in Switzerland, joggers in Poland took one last whimsical run of the year and fireworks crackled in citie...   \n",
       "1884                                                                                                                                                                                                      For many New Yorkers, Times Square on New Year’s Eve brings to mind one word: Nope.   \n",
       "\n",
       "      Year  Month  Minute  \n",
       "0     2019      1      18  \n",
       "1     2019      1       0  \n",
       "2     2019      1       0  \n",
       "3     2019      1      41  \n",
       "4     2019      1      57  \n",
       "...    ...    ...     ...  \n",
       "1880  2024     12       0  \n",
       "1881  2024     12      14  \n",
       "1882  2024     12      16  \n",
       "1883  2024     12      18  \n",
       "1884  2024     12       7  \n",
       "\n",
       "[1885 rows x 6 columns]"
      ]
     },
     "execution_count": 5,
     "metadata": {},
     "output_type": "execute_result"
    }
   ],
   "source": [
    "news_df_dates = news_df.merge(dates, left_index=True, right_index=True)\n",
    "news_df_dates"
   ]
  },
  {
   "cell_type": "markdown",
   "metadata": {
    "deletable": false,
    "editable": false
   },
   "source": [
    "I will add a column to `news_df_dates` called `Quarter` that contains the [fiscal quarter](https://www.investopedia.com/terms/q/quarter.asp#:~:text=The%20standard%20calendar%20quarters%20that,August%2C%20and%20September%20(Q3)) each news article was published.\n",
    "\n",
    "Each value of `Quarter` should be in the format `\"<Year>Q<Quarter Number>\"`.\n",
    "\n",
    "For example:\n",
    "- A news article published in May 2021 will have its `Quarter` value as `\"2021Q2\"`.\n",
    "- A news article published in October 2023 will have its `Quarter` value as `\"2023Q4\"`."
   ]
  },
  {
   "cell_type": "code",
   "execution_count": 6,
   "metadata": {
    "tags": [
     "otter_answer_cell"
    ]
   },
   "outputs": [
    {
     "data": {
      "text/html": [
       "<div>\n",
       "<style scoped>\n",
       "    .dataframe tbody tr th:only-of-type {\n",
       "        vertical-align: middle;\n",
       "    }\n",
       "\n",
       "    .dataframe tbody tr th {\n",
       "        vertical-align: top;\n",
       "    }\n",
       "\n",
       "    .dataframe thead th {\n",
       "        text-align: right;\n",
       "    }\n",
       "</style>\n",
       "<table border=\"1\" class=\"dataframe\">\n",
       "  <thead>\n",
       "    <tr style=\"text-align: right;\">\n",
       "      <th></th>\n",
       "      <th>web_url</th>\n",
       "      <th>pub_date</th>\n",
       "      <th>lead_paragraph</th>\n",
       "      <th>Year</th>\n",
       "      <th>Month</th>\n",
       "      <th>Minute</th>\n",
       "      <th>Quarter</th>\n",
       "    </tr>\n",
       "  </thead>\n",
       "  <tbody>\n",
       "    <tr>\n",
       "      <th>0</th>\n",
       "      <td>https://www.nytimes.com/2019/01/01/us/politics/elizabeth-warren-president.html</td>\n",
       "      <td>2019-01-01T05:18:48+0000</td>\n",
       "      <td>Good Tuesday morning and Happy New Year. Here are some of the stories making news in Washington and politics today.</td>\n",
       "      <td>2019</td>\n",
       "      <td>1</td>\n",
       "      <td>18</td>\n",
       "      <td>2019Q1</td>\n",
       "    </tr>\n",
       "    <tr>\n",
       "      <th>1</th>\n",
       "      <td>https://www.nytimes.com/2019/01/01/arts/television/whats-on-tv-tuesday-marie-kondo-doctor-who.html</td>\n",
       "      <td>2019-01-01T06:00:04+0000</td>\n",
       "      <td>Ring in the new year with some organization inspiration, courtesy of Marie Kondo, and the first-ever \"Doctor Who\" New Year’s Day special.</td>\n",
       "      <td>2019</td>\n",
       "      <td>1</td>\n",
       "      <td>0</td>\n",
       "      <td>2019Q1</td>\n",
       "    </tr>\n",
       "    <tr>\n",
       "      <th>2</th>\n",
       "      <td>https://www.nytimes.com/2019/01/01/travel/three-new-years-resolutions-for-better-travel-in-2019.html</td>\n",
       "      <td>2019-01-01T10:00:06+0000</td>\n",
       "      <td>It’s not uncommon for people to set unrealistic expectations when making New Year’s resolutions, which likely contributes to most of them failing. Over 90 percent of them do, according to research by the University of Scranton.</td>\n",
       "      <td>2019</td>\n",
       "      <td>1</td>\n",
       "      <td>0</td>\n",
       "      <td>2019Q1</td>\n",
       "    </tr>\n",
       "    <tr>\n",
       "      <th>3</th>\n",
       "      <td>https://www.nytimes.com/2019/01/01/world/europe/russia-baby-rescue.html</td>\n",
       "      <td>2019-01-01T16:41:24+0000</td>\n",
       "      <td>MOSCOW — Rescue workers pulled a 10-month-old baby boy alive from a partly collapsed apartment building in central Russia on Tuesday, calling him a \"New Year miracle\" after he survived in the rubble for more than 35 hours in freezing temperatures.</td>\n",
       "      <td>2019</td>\n",
       "      <td>1</td>\n",
       "      <td>41</td>\n",
       "      <td>2019Q1</td>\n",
       "    </tr>\n",
       "    <tr>\n",
       "      <th>4</th>\n",
       "      <td>https://www.nytimes.com/2019/01/01/world/europe/germany-foreigners-attack.html</td>\n",
       "      <td>2019-01-01T17:57:51+0000</td>\n",
       "      <td>BERLIN — Targeting foreigners, a man repeatedly drove his car at pedestrians celebrating New Year’s Eve in western Germany, injuring four people before being arrested, the police and prosecutors said Tuesday.</td>\n",
       "      <td>2019</td>\n",
       "      <td>1</td>\n",
       "      <td>57</td>\n",
       "      <td>2019Q1</td>\n",
       "    </tr>\n",
       "    <tr>\n",
       "      <th>...</th>\n",
       "      <td>...</td>\n",
       "      <td>...</td>\n",
       "      <td>...</td>\n",
       "      <td>...</td>\n",
       "      <td>...</td>\n",
       "      <td>...</td>\n",
       "      <td>...</td>\n",
       "    </tr>\n",
       "    <tr>\n",
       "      <th>1880</th>\n",
       "      <td>https://www.nytimes.com/2024/12/31/crosswords/wordle-review-1292.html</td>\n",
       "      <td>2024-12-31T11:00:02+0000</td>\n",
       "      <td>Welcome to The Wordle Review. Be warned: This page contains spoilers for today’s puzzle. Solve Wordle first, or scroll at your own risk.</td>\n",
       "      <td>2024</td>\n",
       "      <td>12</td>\n",
       "      <td>0</td>\n",
       "      <td>2024Q4</td>\n",
       "    </tr>\n",
       "    <tr>\n",
       "      <th>1881</th>\n",
       "      <td>https://www.nytimes.com/2024/12/31/world/europe/new-years-eve-edinburgh-hogmanay-weather-canceled.html</td>\n",
       "      <td>2024-12-31T11:14:16+0000</td>\n",
       "      <td>The famed Hogmanay street party on New Year’s Eve in Edinburgh, the Scottish capital, has been canceled because of forecasts of rain, strong winds and snow.</td>\n",
       "      <td>2024</td>\n",
       "      <td>12</td>\n",
       "      <td>14</td>\n",
       "      <td>2024Q4</td>\n",
       "    </tr>\n",
       "    <tr>\n",
       "      <th>1882</th>\n",
       "      <td>https://www.nytimes.com/2024/12/31/us/puerto-rico-power-blackout.html</td>\n",
       "      <td>2024-12-31T14:16:12+0000</td>\n",
       "      <td>A sweeping blackout hit Puerto Rico early Tuesday morning, plunging nearly all of the island into darkness on New Year’s Eve.</td>\n",
       "      <td>2024</td>\n",
       "      <td>12</td>\n",
       "      <td>16</td>\n",
       "      <td>2024Q4</td>\n",
       "    </tr>\n",
       "    <tr>\n",
       "      <th>1883</th>\n",
       "      <td>https://www.nytimes.com/2024/12/31/world/new-years-eve-photos.html</td>\n",
       "      <td>2024-12-31T15:18:44+0000</td>\n",
       "      <td>In plazas and parks and bars and homes across the globe, people gathered to commemorate the end of 2024 and welcome the New Year. Bold swimmers plunged into a frigid lake in Switzerland, joggers in Poland took one last whimsical run of the year and fireworks crackled in citie...</td>\n",
       "      <td>2024</td>\n",
       "      <td>12</td>\n",
       "      <td>18</td>\n",
       "      <td>2024Q4</td>\n",
       "    </tr>\n",
       "    <tr>\n",
       "      <th>1884</th>\n",
       "      <td>https://www.nytimes.com/2024/12/31/nyregion/restaurants-new-years-eve-times-square.html</td>\n",
       "      <td>2024-12-31T16:07:45+0000</td>\n",
       "      <td>For many New Yorkers, Times Square on New Year’s Eve brings to mind one word: Nope.</td>\n",
       "      <td>2024</td>\n",
       "      <td>12</td>\n",
       "      <td>7</td>\n",
       "      <td>2024Q4</td>\n",
       "    </tr>\n",
       "  </tbody>\n",
       "</table>\n",
       "<p>1885 rows × 7 columns</p>\n",
       "</div>"
      ],
      "text/plain": [
       "                                                                                                     web_url  \\\n",
       "0                             https://www.nytimes.com/2019/01/01/us/politics/elizabeth-warren-president.html   \n",
       "1         https://www.nytimes.com/2019/01/01/arts/television/whats-on-tv-tuesday-marie-kondo-doctor-who.html   \n",
       "2       https://www.nytimes.com/2019/01/01/travel/three-new-years-resolutions-for-better-travel-in-2019.html   \n",
       "3                                    https://www.nytimes.com/2019/01/01/world/europe/russia-baby-rescue.html   \n",
       "4                             https://www.nytimes.com/2019/01/01/world/europe/germany-foreigners-attack.html   \n",
       "...                                                                                                      ...   \n",
       "1880                                   https://www.nytimes.com/2024/12/31/crosswords/wordle-review-1292.html   \n",
       "1881  https://www.nytimes.com/2024/12/31/world/europe/new-years-eve-edinburgh-hogmanay-weather-canceled.html   \n",
       "1882                                   https://www.nytimes.com/2024/12/31/us/puerto-rico-power-blackout.html   \n",
       "1883                                      https://www.nytimes.com/2024/12/31/world/new-years-eve-photos.html   \n",
       "1884                 https://www.nytimes.com/2024/12/31/nyregion/restaurants-new-years-eve-times-square.html   \n",
       "\n",
       "                      pub_date  \\\n",
       "0     2019-01-01T05:18:48+0000   \n",
       "1     2019-01-01T06:00:04+0000   \n",
       "2     2019-01-01T10:00:06+0000   \n",
       "3     2019-01-01T16:41:24+0000   \n",
       "4     2019-01-01T17:57:51+0000   \n",
       "...                        ...   \n",
       "1880  2024-12-31T11:00:02+0000   \n",
       "1881  2024-12-31T11:14:16+0000   \n",
       "1882  2024-12-31T14:16:12+0000   \n",
       "1883  2024-12-31T15:18:44+0000   \n",
       "1884  2024-12-31T16:07:45+0000   \n",
       "\n",
       "                                                                                                                                                                                                                                                                               lead_paragraph  \\\n",
       "0                                                                                                                                                                         Good Tuesday morning and Happy New Year. Here are some of the stories making news in Washington and politics today.   \n",
       "1                                                                                                                                                   Ring in the new year with some organization inspiration, courtesy of Marie Kondo, and the first-ever \"Doctor Who\" New Year’s Day special.   \n",
       "2                                                         It’s not uncommon for people to set unrealistic expectations when making New Year’s resolutions, which likely contributes to most of them failing. Over 90 percent of them do, according to research by the University of Scranton.   \n",
       "3                                     MOSCOW — Rescue workers pulled a 10-month-old baby boy alive from a partly collapsed apartment building in central Russia on Tuesday, calling him a \"New Year miracle\" after he survived in the rubble for more than 35 hours in freezing temperatures.   \n",
       "4                                                                            BERLIN — Targeting foreigners, a man repeatedly drove his car at pedestrians celebrating New Year’s Eve in western Germany, injuring four people before being arrested, the police and prosecutors said Tuesday.   \n",
       "...                                                                                                                                                                                                                                                                                       ...   \n",
       "1880                                                                                                                                                 Welcome to The Wordle Review. Be warned: This page contains spoilers for today’s puzzle. Solve Wordle first, or scroll at your own risk.   \n",
       "1881                                                                                                                             The famed Hogmanay street party on New Year’s Eve in Edinburgh, the Scottish capital, has been canceled because of forecasts of rain, strong winds and snow.   \n",
       "1882                                                                                                                                                            A sweeping blackout hit Puerto Rico early Tuesday morning, plunging nearly all of the island into darkness on New Year’s Eve.   \n",
       "1883  In plazas and parks and bars and homes across the globe, people gathered to commemorate the end of 2024 and welcome the New Year. Bold swimmers plunged into a frigid lake in Switzerland, joggers in Poland took one last whimsical run of the year and fireworks crackled in citie...   \n",
       "1884                                                                                                                                                                                                      For many New Yorkers, Times Square on New Year’s Eve brings to mind one word: Nope.   \n",
       "\n",
       "      Year  Month  Minute Quarter  \n",
       "0     2019      1      18  2019Q1  \n",
       "1     2019      1       0  2019Q1  \n",
       "2     2019      1       0  2019Q1  \n",
       "3     2019      1      41  2019Q1  \n",
       "4     2019      1      57  2019Q1  \n",
       "...    ...    ...     ...     ...  \n",
       "1880  2024     12       0  2024Q4  \n",
       "1881  2024     12      14  2024Q4  \n",
       "1882  2024     12      16  2024Q4  \n",
       "1883  2024     12      18  2024Q4  \n",
       "1884  2024     12       7  2024Q4  \n",
       "\n",
       "[1885 rows x 7 columns]"
      ]
     },
     "execution_count": 6,
     "metadata": {},
     "output_type": "execute_result"
    }
   ],
   "source": [
    "news_df_dates[\"Quarter\"] = news_df_dates[\"Year\"].astype(str) + \"Q\" + ((news_df_dates[\"Month\"] - 1) // 3 + 1).astype(str)\n",
    "news_df_dates"
   ]
  },
  {
   "cell_type": "markdown",
   "metadata": {
    "deletable": false,
    "editable": false
   },
   "source": [
    "<br>\n",
    "\n",
    "---\n",
    "\n",
    "###  Part 2\n",
    "\n",
    "Next, I will investigate popularity trends of the following four topics: [New Year](https://en.wikipedia.org/wiki/New_Year), [Wordle](https://www.nytimes.com/games/wordle/index.html), [Zoom](https://www.zoom.com/), and [GPT models](https://en.wikipedia.org/wiki/Generative_pre-trained_transformer).\n",
    "\n",
    "For each topic, I will add an integer column to `news_df_dates` indicating the number of times the topic is mentioned in the `lead_paragraph` (i.e., first paragraph) of each article. \n",
    "\n",
    "- The columns should be named `\"New Year\"`,  `\"Zoom\"`, `\"Wordle\"`, and `\"GPT Model\"`.\n",
    "\n",
    "Here are the definitions of a single \"mention\" of each topic:\n",
    "- New Year: An appearance of `\"New Year\"` or `\"New Years\"`, surrounded by non-word characters, in the lead paragraph of the article. For example, `\"Happy New Year!\"` is a match.\n",
    "- Wordle: `\"Wordle\"`, surrounded by non-word characters. For example, `\"Wordless\"` would not match.\n",
    "- Zoom: `\"Zoom\"`, surrounded by non-word characters. For example, `\"Zoomer\"` would not match.\n",
    "- GPT Model: either (1) a consecutive sequence of alphabetical characters, followed by an optional dash (`-`), then `GPT`; or (2) `GPT`, then a dash (`-`), then a numeric digit, then an optional alphabetical character.\n",
    "    - For example, these words match: `\"ChatGPT\"`, `\"CHAT-GPT\"`, `\"GPT-3\"`, `\"GPT-4o\"`.\n",
    "    - However, these words do not match: `\"chatgpt\"`, `\"chatgpt-4o\"`.\n"
   ]
  },
  {
   "cell_type": "code",
   "execution_count": 7,
   "metadata": {
    "tags": [
     "otter_answer_cell"
    ]
   },
   "outputs": [
    {
     "data": {
      "text/html": [
       "<div>\n",
       "<style scoped>\n",
       "    .dataframe tbody tr th:only-of-type {\n",
       "        vertical-align: middle;\n",
       "    }\n",
       "\n",
       "    .dataframe tbody tr th {\n",
       "        vertical-align: top;\n",
       "    }\n",
       "\n",
       "    .dataframe thead th {\n",
       "        text-align: right;\n",
       "    }\n",
       "</style>\n",
       "<table border=\"1\" class=\"dataframe\">\n",
       "  <thead>\n",
       "    <tr style=\"text-align: right;\">\n",
       "      <th></th>\n",
       "      <th>web_url</th>\n",
       "      <th>pub_date</th>\n",
       "      <th>lead_paragraph</th>\n",
       "      <th>Year</th>\n",
       "      <th>Month</th>\n",
       "      <th>Minute</th>\n",
       "      <th>Quarter</th>\n",
       "      <th>New Year</th>\n",
       "      <th>Wordle</th>\n",
       "      <th>Zoom</th>\n",
       "      <th>GPT Model</th>\n",
       "    </tr>\n",
       "  </thead>\n",
       "  <tbody>\n",
       "    <tr>\n",
       "      <th>0</th>\n",
       "      <td>https://www.nytimes.com/2019/01/01/us/politics/elizabeth-warren-president.html</td>\n",
       "      <td>2019-01-01T05:18:48+0000</td>\n",
       "      <td>Good Tuesday morning and Happy New Year. Here are some of the stories making news in Washington and politics today.</td>\n",
       "      <td>2019</td>\n",
       "      <td>1</td>\n",
       "      <td>18</td>\n",
       "      <td>2019Q1</td>\n",
       "      <td>1</td>\n",
       "      <td>0</td>\n",
       "      <td>0</td>\n",
       "      <td>0</td>\n",
       "    </tr>\n",
       "  </tbody>\n",
       "</table>\n",
       "</div>"
      ],
      "text/plain": [
       "                                                                          web_url  \\\n",
       "0  https://www.nytimes.com/2019/01/01/us/politics/elizabeth-warren-president.html   \n",
       "\n",
       "                   pub_date  \\\n",
       "0  2019-01-01T05:18:48+0000   \n",
       "\n",
       "                                                                                                        lead_paragraph  \\\n",
       "0  Good Tuesday morning and Happy New Year. Here are some of the stories making news in Washington and politics today.   \n",
       "\n",
       "   Year  Month  Minute Quarter  New Year  Wordle  Zoom  GPT Model  \n",
       "0  2019      1      18  2019Q1         1       0     0          0  "
      ]
     },
     "execution_count": 7,
     "metadata": {},
     "output_type": "execute_result"
    }
   ],
   "source": [
    "patterns = {\n",
    "    'New Year': r'(?<![a-zA-Z0-9])(New Year|New Years)(?=\\s|$|[^a-zA-Z0-9])',\n",
    "    'Wordle': r'(?<![a-zA-Z0-9])Wordle(?=\\s|$|[^a-zA-Z0-9])',\n",
    "    'Zoom': r'(?<![a-zA-Z0-9])Zoom(?=\\s|$|[^a-zA-Z0-9])',\n",
    "    'GPT Model': r'(?<![a-zA-Z0-9])(?:[A-Za-z]+-?GPT|GPT-\\d+(\\.\\d+)?[A-Za-z]?)(?=\\s|$|[^a-zA-Z0-9])'\n",
    "}\n",
    "\n",
    "\n",
    "for topic, pattern in patterns.items():\n",
    "    news_df_dates[topic] = news_df_dates[\"lead_paragraph\"].apply(lambda x: len(re.findall(pattern, x)))\n",
    "\n",
    "news_df_dates.head(1)"
   ]
  },
  {
   "cell_type": "markdown",
   "metadata": {
    "deletable": false,
    "editable": false
   },
   "source": [
    "<br>\n",
    "\n",
    "---\n",
    "\n",
    "###  Part 3\n",
    "\n",
    "I will create a new `DataFrame` called `topic_mentions` with the following characteristics:\n",
    "\n",
    "- There will be one column for each topic (`\"New Year\"`,  `\"Zoom\"`, `\"Wordle\"`, and `\"GPT Model\"`).\n",
    "\n",
    "- The index should be `Quarter`.\n",
    "\n",
    "- The values are the number of articles that mentioned each topic in each quarter."
   ]
  },
  {
   "cell_type": "code",
   "execution_count": 8,
   "metadata": {
    "tags": [
     "otter_answer_cell"
    ]
   },
   "outputs": [
    {
     "data": {
      "text/html": [
       "<div>\n",
       "<style scoped>\n",
       "    .dataframe tbody tr th:only-of-type {\n",
       "        vertical-align: middle;\n",
       "    }\n",
       "\n",
       "    .dataframe tbody tr th {\n",
       "        vertical-align: top;\n",
       "    }\n",
       "\n",
       "    .dataframe thead th {\n",
       "        text-align: right;\n",
       "    }\n",
       "</style>\n",
       "<table border=\"1\" class=\"dataframe\">\n",
       "  <thead>\n",
       "    <tr style=\"text-align: right;\">\n",
       "      <th></th>\n",
       "      <th>New Year</th>\n",
       "      <th>Wordle</th>\n",
       "      <th>Zoom</th>\n",
       "      <th>GPT Model</th>\n",
       "    </tr>\n",
       "    <tr>\n",
       "      <th>Quarter</th>\n",
       "      <th></th>\n",
       "      <th></th>\n",
       "      <th></th>\n",
       "      <th></th>\n",
       "    </tr>\n",
       "  </thead>\n",
       "  <tbody>\n",
       "    <tr>\n",
       "      <th>2023Q1</th>\n",
       "      <td>58</td>\n",
       "      <td>23</td>\n",
       "      <td>16</td>\n",
       "      <td>40</td>\n",
       "    </tr>\n",
       "    <tr>\n",
       "      <th>2023Q2</th>\n",
       "      <td>4</td>\n",
       "      <td>96</td>\n",
       "      <td>8</td>\n",
       "      <td>23</td>\n",
       "    </tr>\n",
       "    <tr>\n",
       "      <th>2023Q3</th>\n",
       "      <td>2</td>\n",
       "      <td>95</td>\n",
       "      <td>6</td>\n",
       "      <td>27</td>\n",
       "    </tr>\n",
       "    <tr>\n",
       "      <th>2023Q4</th>\n",
       "      <td>24</td>\n",
       "      <td>97</td>\n",
       "      <td>4</td>\n",
       "      <td>26</td>\n",
       "    </tr>\n",
       "  </tbody>\n",
       "</table>\n",
       "</div>"
      ],
      "text/plain": [
       "         New Year  Wordle  Zoom  GPT Model\n",
       "Quarter                                   \n",
       "2023Q1         58      23    16         40\n",
       "2023Q2          4      96     8         23\n",
       "2023Q3          2      95     6         27\n",
       "2023Q4         24      97     4         26"
      ]
     },
     "execution_count": 8,
     "metadata": {},
     "output_type": "execute_result"
    }
   ],
   "source": [
    "topics = [\"New Year\", \"Wordle\", \"Zoom\", \"GPT Model\"]\n",
    "\n",
    "def num_mentioned(ser):\n",
    "    return (ser > 0).sum()\n",
    "\n",
    "topic_mentions = news_df_dates.groupby(\"Quarter\")[topics].apply(lambda x: x.apply(num_mentioned))\n",
    "topic_mentions.reset_index(\"Quarter\") \n",
    "# Year 2023 records\n",
    "topic_mentions[16:20]"
   ]
  },
  {
   "cell_type": "markdown",
   "metadata": {
    "deletable": false,
    "editable": false
   },
   "source": [
    "<!-- BEGIN QUESTION -->\n",
    "\n",
    "<br>\n",
    "\n",
    "---\n",
    "### Part 4\n",
    "\n",
    "I'll visualize the article counts for each topic by quarter from 2019 to 2024."
   ]
  },
  {
   "cell_type": "markdown",
   "metadata": {
    "deletable": false,
    "editable": false
   },
   "source": [
    "\n",
    "Using `sns.lineplot` ([documentation](https://seaborn.pydata.org/generated/seaborn.lineplot.html)) and `topic_mentions`, I'll visualize the topic trends across quarters.\n"
   ]
  },
  {
   "cell_type": "code",
   "execution_count": 9,
   "metadata": {
    "tags": [
     "otter_answer_cell"
    ]
   },
   "outputs": [
    {
     "data": {
      "image/png": "[encoded data removed]",
      "text/plain": [
       "<Figure size 1200x500 with 1 Axes>"
      ]
     },
     "metadata": {},
     "output_type": "display_data"
    }
   ],
   "source": [
    "plt.figure(figsize=(12, 5)) # DO NOT MODIFY\n",
    "\n",
    "for topic in topics:\n",
    "    sns.lineplot(topic_mentions, x = \"Quarter\", y = topic_mentions[topic])\n",
    "\n",
    "# DO NOT MODIFY THE CODE BELOW\n",
    "# If your solution above is correct, running this cell should produce the plot above.\n",
    "plt.xticks(rotation=60)\n",
    "plt.yticks()\n",
    "plt.ylabel(\"Number of Articles\")\n",
    "plt.xlabel(\"Quarter\")\n",
    "plt.title(\"Number of Articles Released (2019-2024)\")\n",
    "plt.gcf().set_facecolor('white')\n",
    "plt.show()"
   ]
  },
  {
   "cell_type": "markdown",
   "metadata": {
    "deletable": false,
    "editable": false
   },
   "source": [
    "<!-- END QUESTION -->\n",
    "\n",
    "<br/>\n",
    "\n",
    "<hr style=\"border: 1px solid #fdb515;\" />\n",
    "\n",
    "##  Section 3: Sentiment Analysis\n",
    "\n",
    "**Sentiment analysis** involves using an NLP model to classify the emotional tone of text. For example, \"You're great!\" has a positive sentiment, while \"I feel horrible\" has a negative sentiment.\n",
    "\n",
    "In this section, I will explore temporal changes in the **sentiment** of NYT articles that mention each topic.\n",
    "\n",
    "> The sentiment values in this section were computed using a fine-tuned version of the **DistilBERT** model ([GitHub](https://github.com/huggingface/transformers/tree/main/examples/research_projects/distillation), [original paper](https://arxiv.org/abs/1910.01108)).\n",
    ">\n",
    "> DistilBERT is a neural network-based language model similar to ChatGPT.\n"
   ]
  },
  {
   "cell_type": "code",
   "execution_count": 10,
   "metadata": {
    "deletable": false,
    "editable": false
   },
   "outputs": [],
   "source": [
    "from transformers import pipeline\n",
    "model_checkpoint = \"distilbert/distilbert-base-uncased-finetuned-sst-2-english\""
   ]
  },
  {
   "cell_type": "code",
   "execution_count": 11,
   "metadata": {
    "deletable": false,
    "editable": false
   },
   "outputs": [
    {
     "name": "stderr",
     "output_type": "stream",
     "text": [
      "Device set to use mps:0\n"
     ]
    }
   ],
   "source": [
    "# Load the model\n",
    "sentiment_analysis = pipeline(\n",
    "    \"sentiment-analysis\", \n",
    "    model=model_checkpoint, \n",
    "    device=0  # 0 means \"first GPU\"\n",
    ")"
   ]
  },
  {
   "cell_type": "code",
   "execution_count": 12,
   "metadata": {
    "deletable": false,
    "editable": false
   },
   "outputs": [
    {
     "name": "stdout",
     "output_type": "stream",
     "text": [
      "Example 1: [{'label': 'POSITIVE', 'score': 0.9955033659934998}]\n",
      "Example 2: [{'label': 'NEGATIVE', 'score': 0.9987561702728271}]\n",
      "Example 3: [{'label': 'POSITIVE', 'score': 0.9975079298019409}]\n"
     ]
    }
   ],
   "source": [
    "# Get the sentiment of a given string\n",
    "sentiment_1 = sentiment_analysis(\"I have two dogs.\")\n",
    "print(\"Example 1: \" + str(sentiment_1))\n",
    "\n",
    "sentiment_2 = sentiment_analysis(\"I do not have dogs.\")\n",
    "print(\"Example 2: \" + str(sentiment_2))\n",
    "\n",
    "sentiment_3 = sentiment_analysis(\"Fortunately, I do not have dogs to worry about.\")\n",
    "print(\"Example 3: \" + str(sentiment_3))"
   ]
  },
  {
   "cell_type": "markdown",
   "metadata": {
    "deletable": false,
    "editable": false
   },
   "source": [
    "The model can determine the sentiment of phrases/sentences (not just words). The model measures the phrase's **polarity**, indicating how strongly negative or positive it is on a scale of 0 to 1."
   ]
  },
  {
   "cell_type": "code",
   "execution_count": 13,
   "metadata": {
    "deletable": false,
    "editable": false
   },
   "outputs": [
    {
     "name": "stdout",
     "output_type": "stream",
     "text": [
      "[{'label': 'POSITIVE', 'score': 0.9955033659934998}, {'label': 'NEGATIVE', 'score': 0.9987561702728271}]\n"
     ]
    }
   ],
   "source": [
    "sentiments = sentiment_analysis([\"I have two dogs.\", \"I do not have dogs.\"])\n",
    "print(sentiments)"
   ]
  },
  {
   "cell_type": "markdown",
   "metadata": {
    "deletable": false,
    "editable": false
   },
   "source": [
    "<br>\n",
    "\n",
    "---\n",
    "###  Part 1\n",
    "\n",
    "The sentences provided in the previous example have pretty high polarity scores. Let's see how the model behaves with more ambiguous sentences.\n",
    "\n",
    "I'll write a sentence `less_polar_sentence` that has a polarity score of less than 0.8. This may take some trial and error."
   ]
  },
  {
   "cell_type": "code",
   "execution_count": 14,
   "metadata": {
    "tags": [
     "otter_answer_cell"
    ]
   },
   "outputs": [
    {
     "name": "stdout",
     "output_type": "stream",
     "text": [
      "[{'label': 'NEGATIVE', 'score': 0.506722092628479}]\n"
     ]
    }
   ],
   "source": [
    "less_polar_sentence = \"I went to crossroads for breakfast.\"\n",
    "results = sentiment_analysis(less_polar_sentence)\n",
    "print(results)"
   ]
  },
  {
   "cell_type": "markdown",
   "metadata": {
    "deletable": false,
    "editable": false
   },
   "source": [
    "<br>\n",
    "\n",
    "---\n",
    "\n",
    "###  Part 2\n",
    "\n",
    "As a first step, I'll obtain the sentiment of the NYT articles that mention these **three** topics: `Zoom`, `New Year`, and `GPT`. "
   ]
  },
  {
   "cell_type": "markdown",
   "metadata": {
    "deletable": false,
    "editable": false
   },
   "source": [
    "\n",
    "I'll create a `DataFrame` called `news_df_filtered` that contains all articles from `news_df_dates` that mention `Zoom`, `New Year`, or `GPT`, but do not mention `Wordle`."
   ]
  },
  {
   "cell_type": "code",
   "execution_count": 15,
   "metadata": {
    "tags": [
     "otter_answer_cell"
    ]
   },
   "outputs": [
    {
     "data": {
      "text/html": [
       "<div>\n",
       "<style scoped>\n",
       "    .dataframe tbody tr th:only-of-type {\n",
       "        vertical-align: middle;\n",
       "    }\n",
       "\n",
       "    .dataframe tbody tr th {\n",
       "        vertical-align: top;\n",
       "    }\n",
       "\n",
       "    .dataframe thead th {\n",
       "        text-align: right;\n",
       "    }\n",
       "</style>\n",
       "<table border=\"1\" class=\"dataframe\">\n",
       "  <thead>\n",
       "    <tr style=\"text-align: right;\">\n",
       "      <th></th>\n",
       "      <th>web_url</th>\n",
       "      <th>pub_date</th>\n",
       "      <th>lead_paragraph</th>\n",
       "      <th>Year</th>\n",
       "      <th>Month</th>\n",
       "      <th>Minute</th>\n",
       "      <th>Quarter</th>\n",
       "      <th>New Year</th>\n",
       "      <th>Wordle</th>\n",
       "      <th>Zoom</th>\n",
       "      <th>GPT Model</th>\n",
       "    </tr>\n",
       "  </thead>\n",
       "  <tbody>\n",
       "    <tr>\n",
       "      <th>0</th>\n",
       "      <td>https://www.nytimes.com/2019/01/01/us/politics/elizabeth-warren-president.html</td>\n",
       "      <td>2019-01-01T05:18:48+0000</td>\n",
       "      <td>Good Tuesday morning and Happy New Year. Here are some of the stories making news in Washington and politics today.</td>\n",
       "      <td>2019</td>\n",
       "      <td>1</td>\n",
       "      <td>18</td>\n",
       "      <td>2019Q1</td>\n",
       "      <td>1</td>\n",
       "      <td>0</td>\n",
       "      <td>0</td>\n",
       "      <td>0</td>\n",
       "    </tr>\n",
       "    <tr>\n",
       "      <th>1</th>\n",
       "      <td>https://www.nytimes.com/2019/01/01/arts/television/whats-on-tv-tuesday-marie-kondo-doctor-who.html</td>\n",
       "      <td>2019-01-01T06:00:04+0000</td>\n",
       "      <td>Ring in the new year with some organization inspiration, courtesy of Marie Kondo, and the first-ever \"Doctor Who\" New Year’s Day special.</td>\n",
       "      <td>2019</td>\n",
       "      <td>1</td>\n",
       "      <td>0</td>\n",
       "      <td>2019Q1</td>\n",
       "      <td>1</td>\n",
       "      <td>0</td>\n",
       "      <td>0</td>\n",
       "      <td>0</td>\n",
       "    </tr>\n",
       "    <tr>\n",
       "      <th>2</th>\n",
       "      <td>https://www.nytimes.com/2019/01/01/travel/three-new-years-resolutions-for-better-travel-in-2019.html</td>\n",
       "      <td>2019-01-01T10:00:06+0000</td>\n",
       "      <td>It’s not uncommon for people to set unrealistic expectations when making New Year’s resolutions, which likely contributes to most of them failing. Over 90 percent of them do, according to research by the University of Scranton.</td>\n",
       "      <td>2019</td>\n",
       "      <td>1</td>\n",
       "      <td>0</td>\n",
       "      <td>2019Q1</td>\n",
       "      <td>1</td>\n",
       "      <td>0</td>\n",
       "      <td>0</td>\n",
       "      <td>0</td>\n",
       "    </tr>\n",
       "    <tr>\n",
       "      <th>3</th>\n",
       "      <td>https://www.nytimes.com/2019/01/01/world/europe/russia-baby-rescue.html</td>\n",
       "      <td>2019-01-01T16:41:24+0000</td>\n",
       "      <td>MOSCOW — Rescue workers pulled a 10-month-old baby boy alive from a partly collapsed apartment building in central Russia on Tuesday, calling him a \"New Year miracle\" after he survived in the rubble for more than 35 hours in freezing temperatures.</td>\n",
       "      <td>2019</td>\n",
       "      <td>1</td>\n",
       "      <td>41</td>\n",
       "      <td>2019Q1</td>\n",
       "      <td>1</td>\n",
       "      <td>0</td>\n",
       "      <td>0</td>\n",
       "      <td>0</td>\n",
       "    </tr>\n",
       "    <tr>\n",
       "      <th>4</th>\n",
       "      <td>https://www.nytimes.com/2019/01/01/world/europe/germany-foreigners-attack.html</td>\n",
       "      <td>2019-01-01T17:57:51+0000</td>\n",
       "      <td>BERLIN — Targeting foreigners, a man repeatedly drove his car at pedestrians celebrating New Year’s Eve in western Germany, injuring four people before being arrested, the police and prosecutors said Tuesday.</td>\n",
       "      <td>2019</td>\n",
       "      <td>1</td>\n",
       "      <td>57</td>\n",
       "      <td>2019Q1</td>\n",
       "      <td>1</td>\n",
       "      <td>0</td>\n",
       "      <td>0</td>\n",
       "      <td>0</td>\n",
       "    </tr>\n",
       "    <tr>\n",
       "      <th>...</th>\n",
       "      <td>...</td>\n",
       "      <td>...</td>\n",
       "      <td>...</td>\n",
       "      <td>...</td>\n",
       "      <td>...</td>\n",
       "      <td>...</td>\n",
       "      <td>...</td>\n",
       "      <td>...</td>\n",
       "      <td>...</td>\n",
       "      <td>...</td>\n",
       "      <td>...</td>\n",
       "    </tr>\n",
       "    <tr>\n",
       "      <th>1879</th>\n",
       "      <td>https://www.nytimes.com/2024/12/30/us/northern-lights-united-states-new-years-eve.html</td>\n",
       "      <td>2024-12-31T01:41:12+0000</td>\n",
       "      <td>Fireworks won’t be the only thing lighting up the sky during New Year celebrations.</td>\n",
       "      <td>2024</td>\n",
       "      <td>12</td>\n",
       "      <td>41</td>\n",
       "      <td>2024Q4</td>\n",
       "      <td>1</td>\n",
       "      <td>0</td>\n",
       "      <td>0</td>\n",
       "      <td>0</td>\n",
       "    </tr>\n",
       "    <tr>\n",
       "      <th>1881</th>\n",
       "      <td>https://www.nytimes.com/2024/12/31/world/europe/new-years-eve-edinburgh-hogmanay-weather-canceled.html</td>\n",
       "      <td>2024-12-31T11:14:16+0000</td>\n",
       "      <td>The famed Hogmanay street party on New Year’s Eve in Edinburgh, the Scottish capital, has been canceled because of forecasts of rain, strong winds and snow.</td>\n",
       "      <td>2024</td>\n",
       "      <td>12</td>\n",
       "      <td>14</td>\n",
       "      <td>2024Q4</td>\n",
       "      <td>1</td>\n",
       "      <td>0</td>\n",
       "      <td>0</td>\n",
       "      <td>0</td>\n",
       "    </tr>\n",
       "    <tr>\n",
       "      <th>1882</th>\n",
       "      <td>https://www.nytimes.com/2024/12/31/us/puerto-rico-power-blackout.html</td>\n",
       "      <td>2024-12-31T14:16:12+0000</td>\n",
       "      <td>A sweeping blackout hit Puerto Rico early Tuesday morning, plunging nearly all of the island into darkness on New Year’s Eve.</td>\n",
       "      <td>2024</td>\n",
       "      <td>12</td>\n",
       "      <td>16</td>\n",
       "      <td>2024Q4</td>\n",
       "      <td>1</td>\n",
       "      <td>0</td>\n",
       "      <td>0</td>\n",
       "      <td>0</td>\n",
       "    </tr>\n",
       "    <tr>\n",
       "      <th>1883</th>\n",
       "      <td>https://www.nytimes.com/2024/12/31/world/new-years-eve-photos.html</td>\n",
       "      <td>2024-12-31T15:18:44+0000</td>\n",
       "      <td>In plazas and parks and bars and homes across the globe, people gathered to commemorate the end of 2024 and welcome the New Year. Bold swimmers plunged into a frigid lake in Switzerland, joggers in Poland took one last whimsical run of the year and fireworks crackled in citie...</td>\n",
       "      <td>2024</td>\n",
       "      <td>12</td>\n",
       "      <td>18</td>\n",
       "      <td>2024Q4</td>\n",
       "      <td>1</td>\n",
       "      <td>0</td>\n",
       "      <td>0</td>\n",
       "      <td>0</td>\n",
       "    </tr>\n",
       "    <tr>\n",
       "      <th>1884</th>\n",
       "      <td>https://www.nytimes.com/2024/12/31/nyregion/restaurants-new-years-eve-times-square.html</td>\n",
       "      <td>2024-12-31T16:07:45+0000</td>\n",
       "      <td>For many New Yorkers, Times Square on New Year’s Eve brings to mind one word: Nope.</td>\n",
       "      <td>2024</td>\n",
       "      <td>12</td>\n",
       "      <td>7</td>\n",
       "      <td>2024Q4</td>\n",
       "      <td>1</td>\n",
       "      <td>0</td>\n",
       "      <td>0</td>\n",
       "      <td>0</td>\n",
       "    </tr>\n",
       "  </tbody>\n",
       "</table>\n",
       "<p>1135 rows × 11 columns</p>\n",
       "</div>"
      ],
      "text/plain": [
       "                                                                                                     web_url  \\\n",
       "0                             https://www.nytimes.com/2019/01/01/us/politics/elizabeth-warren-president.html   \n",
       "1         https://www.nytimes.com/2019/01/01/arts/television/whats-on-tv-tuesday-marie-kondo-doctor-who.html   \n",
       "2       https://www.nytimes.com/2019/01/01/travel/three-new-years-resolutions-for-better-travel-in-2019.html   \n",
       "3                                    https://www.nytimes.com/2019/01/01/world/europe/russia-baby-rescue.html   \n",
       "4                             https://www.nytimes.com/2019/01/01/world/europe/germany-foreigners-attack.html   \n",
       "...                                                                                                      ...   \n",
       "1879                  https://www.nytimes.com/2024/12/30/us/northern-lights-united-states-new-years-eve.html   \n",
       "1881  https://www.nytimes.com/2024/12/31/world/europe/new-years-eve-edinburgh-hogmanay-weather-canceled.html   \n",
       "1882                                   https://www.nytimes.com/2024/12/31/us/puerto-rico-power-blackout.html   \n",
       "1883                                      https://www.nytimes.com/2024/12/31/world/new-years-eve-photos.html   \n",
       "1884                 https://www.nytimes.com/2024/12/31/nyregion/restaurants-new-years-eve-times-square.html   \n",
       "\n",
       "                      pub_date  \\\n",
       "0     2019-01-01T05:18:48+0000   \n",
       "1     2019-01-01T06:00:04+0000   \n",
       "2     2019-01-01T10:00:06+0000   \n",
       "3     2019-01-01T16:41:24+0000   \n",
       "4     2019-01-01T17:57:51+0000   \n",
       "...                        ...   \n",
       "1879  2024-12-31T01:41:12+0000   \n",
       "1881  2024-12-31T11:14:16+0000   \n",
       "1882  2024-12-31T14:16:12+0000   \n",
       "1883  2024-12-31T15:18:44+0000   \n",
       "1884  2024-12-31T16:07:45+0000   \n",
       "\n",
       "                                                                                                                                                                                                                                                                               lead_paragraph  \\\n",
       "0                                                                                                                                                                         Good Tuesday morning and Happy New Year. Here are some of the stories making news in Washington and politics today.   \n",
       "1                                                                                                                                                   Ring in the new year with some organization inspiration, courtesy of Marie Kondo, and the first-ever \"Doctor Who\" New Year’s Day special.   \n",
       "2                                                         It’s not uncommon for people to set unrealistic expectations when making New Year’s resolutions, which likely contributes to most of them failing. Over 90 percent of them do, according to research by the University of Scranton.   \n",
       "3                                     MOSCOW — Rescue workers pulled a 10-month-old baby boy alive from a partly collapsed apartment building in central Russia on Tuesday, calling him a \"New Year miracle\" after he survived in the rubble for more than 35 hours in freezing temperatures.   \n",
       "4                                                                            BERLIN — Targeting foreigners, a man repeatedly drove his car at pedestrians celebrating New Year’s Eve in western Germany, injuring four people before being arrested, the police and prosecutors said Tuesday.   \n",
       "...                                                                                                                                                                                                                                                                                       ...   \n",
       "1879                                                                                                                                                                                                      Fireworks won’t be the only thing lighting up the sky during New Year celebrations.   \n",
       "1881                                                                                                                             The famed Hogmanay street party on New Year’s Eve in Edinburgh, the Scottish capital, has been canceled because of forecasts of rain, strong winds and snow.   \n",
       "1882                                                                                                                                                            A sweeping blackout hit Puerto Rico early Tuesday morning, plunging nearly all of the island into darkness on New Year’s Eve.   \n",
       "1883  In plazas and parks and bars and homes across the globe, people gathered to commemorate the end of 2024 and welcome the New Year. Bold swimmers plunged into a frigid lake in Switzerland, joggers in Poland took one last whimsical run of the year and fireworks crackled in citie...   \n",
       "1884                                                                                                                                                                                                      For many New Yorkers, Times Square on New Year’s Eve brings to mind one word: Nope.   \n",
       "\n",
       "      Year  Month  Minute Quarter  New Year  Wordle  Zoom  GPT Model  \n",
       "0     2019      1      18  2019Q1         1       0     0          0  \n",
       "1     2019      1       0  2019Q1         1       0     0          0  \n",
       "2     2019      1       0  2019Q1         1       0     0          0  \n",
       "3     2019      1      41  2019Q1         1       0     0          0  \n",
       "4     2019      1      57  2019Q1         1       0     0          0  \n",
       "...    ...    ...     ...     ...       ...     ...   ...        ...  \n",
       "1879  2024     12      41  2024Q4         1       0     0          0  \n",
       "1881  2024     12      14  2024Q4         1       0     0          0  \n",
       "1882  2024     12      16  2024Q4         1       0     0          0  \n",
       "1883  2024     12      18  2024Q4         1       0     0          0  \n",
       "1884  2024     12       7  2024Q4         1       0     0          0  \n",
       "\n",
       "[1135 rows x 11 columns]"
      ]
     },
     "execution_count": 15,
     "metadata": {},
     "output_type": "execute_result"
    }
   ],
   "source": [
    "condition_zoom_newyear_gpt = (news_df_dates['Zoom'] > 0) | (news_df_dates['New Year'] > 0) | (news_df_dates['GPT Model'] > 0)\n",
    "condition_no_wordle = news_df_dates['Wordle'] == 0\n",
    "news_df_filtered = news_df_dates[condition_zoom_newyear_gpt & condition_no_wordle]\n",
    "news_df_filtered"
   ]
  },
  {
   "cell_type": "markdown",
   "metadata": {
    "deletable": false,
    "editable": false
   },
   "source": [
    "\n",
    "1. I will load the file `data/nyt_sentiments.csv` as a `DataFrame` called `sentiment`. \n",
    "2. I will set the index of `sentiment` as the `web_url` of each article, which uniquely defines each article.\n",
    "\n",
    "Note that the model outputs both a label and a score.\n",
    "\n",
    "For each article, `sentiment` provides an outputted `label` and 0 to 1 sentiment `score`. Scores closer to 1 have a stronger sentiment, while scores closer to 0 are more neutral. I can more efficiently communicate the information in these two columns with a single new column. \n",
    "\n",
    "3. I will Add a new column called `article_sentiment` to `sentiment` that provides the existing score if the label is \"POSITIVE\", and negates the existing score if the label is \"NEGATIVE\". For example, a score of `0.6` with a label `POSITIVE` would have the value `0.6` in `article_sentiment`, while a score of `0.6` with a label `NEGATIVE` would have the value `-0.6` in `article_sentiment`.\n",
    "\n",
    "4. In will merge `news_df` with `sentiment` using the `web_url` column, making sure that `news_df` is the left `DataFrame` while `sentiment` is the right `DataFrame`. The merged `DataFrame` should be called `news_df_sentiment`.\n",
    "\n",
    "5. Finally, I will drop the original `label` and `score` columns."
   ]
  },
  {
   "cell_type": "code",
   "execution_count": 16,
   "metadata": {
    "tags": [
     "otter_answer_cell"
    ]
   },
   "outputs": [
    {
     "data": {
      "text/html": [
       "<div>\n",
       "<style scoped>\n",
       "    .dataframe tbody tr th:only-of-type {\n",
       "        vertical-align: middle;\n",
       "    }\n",
       "\n",
       "    .dataframe tbody tr th {\n",
       "        vertical-align: top;\n",
       "    }\n",
       "\n",
       "    .dataframe thead th {\n",
       "        text-align: right;\n",
       "    }\n",
       "</style>\n",
       "<table border=\"1\" class=\"dataframe\">\n",
       "  <thead>\n",
       "    <tr style=\"text-align: right;\">\n",
       "      <th></th>\n",
       "      <th>web_url</th>\n",
       "      <th>label</th>\n",
       "      <th>score</th>\n",
       "      <th>article_sentiment</th>\n",
       "      <th>pub_date</th>\n",
       "      <th>lead_paragraph</th>\n",
       "      <th>Year</th>\n",
       "      <th>Month</th>\n",
       "      <th>Minute</th>\n",
       "      <th>Quarter</th>\n",
       "      <th>New Year</th>\n",
       "      <th>Wordle</th>\n",
       "      <th>Zoom</th>\n",
       "      <th>GPT Model</th>\n",
       "    </tr>\n",
       "  </thead>\n",
       "  <tbody>\n",
       "    <tr>\n",
       "      <th>0</th>\n",
       "      <td>https://www.nytimes.com/2020/01/01/opinion/north-korea-nuclear-test.html</td>\n",
       "      <td>NEGATIVE</td>\n",
       "      <td>0.997801</td>\n",
       "      <td>-0.997801</td>\n",
       "      <td>2020-01-01T16:00:09+0000</td>\n",
       "      <td>Is anyone surprised? On the last day of 2019, after months of threatening the United States to ease its nuclear standoff with \"a bold decision\" by year’s end — or else — the leader of North Korea darkly announced that the country would unveil a new strategic weapon \"in the ne...</td>\n",
       "      <td>2020</td>\n",
       "      <td>1</td>\n",
       "      <td>0</td>\n",
       "      <td>2020Q1</td>\n",
       "      <td>1</td>\n",
       "      <td>0</td>\n",
       "      <td>0</td>\n",
       "      <td>0</td>\n",
       "    </tr>\n",
       "    <tr>\n",
       "      <th>1</th>\n",
       "      <td>https://www.nytimes.com/2020/01/01/parenting/money-rage-and-love.html</td>\n",
       "      <td>POSITIVE</td>\n",
       "      <td>0.999756</td>\n",
       "      <td>0.999756</td>\n",
       "      <td>2020-01-01T17:20:06+0000</td>\n",
       "      <td>Happy New Year! On this first day of 2020, I’m reflecting on the parenting stories that moved me from the past year. What I love about covering this beat is that how we raise children touches on every topic imaginable: Money, privilege, politics, race, business and technology...</td>\n",
       "      <td>2020</td>\n",
       "      <td>1</td>\n",
       "      <td>20</td>\n",
       "      <td>2020Q1</td>\n",
       "      <td>1</td>\n",
       "      <td>0</td>\n",
       "      <td>0</td>\n",
       "      <td>0</td>\n",
       "    </tr>\n",
       "    <tr>\n",
       "      <th>2</th>\n",
       "      <td>https://www.nytimes.com/2020/01/01/smarter-living/5-cheap-ish-things-for-your-home-gym.html</td>\n",
       "      <td>POSITIVE</td>\n",
       "      <td>0.999846</td>\n",
       "      <td>0.999846</td>\n",
       "      <td>2020-01-01T23:32:49+0000</td>\n",
       "      <td>Kick off the new year right and pick up the brand-new Smarter Living book! We’ve pulled together the best of S.L., plus loads of new advice and guidance, to give you smart, actionable life tips on how to improve your career, your home, your finances, your relationships and yo...</td>\n",
       "      <td>2020</td>\n",
       "      <td>1</td>\n",
       "      <td>32</td>\n",
       "      <td>2020Q1</td>\n",
       "      <td>1</td>\n",
       "      <td>0</td>\n",
       "      <td>0</td>\n",
       "      <td>0</td>\n",
       "    </tr>\n",
       "    <tr>\n",
       "      <th>3</th>\n",
       "      <td>https://www.nytimes.com/2020/01/01/us/new-year-shootings.html</td>\n",
       "      <td>NEGATIVE</td>\n",
       "      <td>0.944478</td>\n",
       "      <td>-0.944478</td>\n",
       "      <td>2020-01-01T23:21:49+0000</td>\n",
       "      <td>Just minutes into New Year’s Day, a teenage boy was shot and wounded in the leg on the North Side of St. Louis. A few minutes later, four people were shot in a different neighborhood, three fatally. By morning, the police were investigating 10 shootings, including five deaths...</td>\n",
       "      <td>2020</td>\n",
       "      <td>1</td>\n",
       "      <td>21</td>\n",
       "      <td>2020Q1</td>\n",
       "      <td>1</td>\n",
       "      <td>0</td>\n",
       "      <td>0</td>\n",
       "      <td>0</td>\n",
       "    </tr>\n",
       "    <tr>\n",
       "      <th>4</th>\n",
       "      <td>https://www.nytimes.com/2020/01/01/well/move/exercise-physical-activity-workout-time.html</td>\n",
       "      <td>POSITIVE</td>\n",
       "      <td>0.986820</td>\n",
       "      <td>0.986820</td>\n",
       "      <td>2020-01-01T10:00:13+0000</td>\n",
       "      <td>If, like many of us, your New Year’s resolution is to find more time to exercise, you may be in luck. According to a recent study of how Americans typically spend their waking hours, almost all of us have far more leisure time available than we think we do.</td>\n",
       "      <td>2020</td>\n",
       "      <td>1</td>\n",
       "      <td>0</td>\n",
       "      <td>2020Q1</td>\n",
       "      <td>1</td>\n",
       "      <td>0</td>\n",
       "      <td>0</td>\n",
       "      <td>0</td>\n",
       "    </tr>\n",
       "    <tr>\n",
       "      <th>...</th>\n",
       "      <td>...</td>\n",
       "      <td>...</td>\n",
       "      <td>...</td>\n",
       "      <td>...</td>\n",
       "      <td>...</td>\n",
       "      <td>...</td>\n",
       "      <td>...</td>\n",
       "      <td>...</td>\n",
       "      <td>...</td>\n",
       "      <td>...</td>\n",
       "      <td>...</td>\n",
       "      <td>...</td>\n",
       "      <td>...</td>\n",
       "      <td>...</td>\n",
       "    </tr>\n",
       "    <tr>\n",
       "      <th>1049</th>\n",
       "      <td>https://www.nytimes.com/video/opinion/100000007013675/self-quarantined-for-the-holidays.html</td>\n",
       "      <td>POSITIVE</td>\n",
       "      <td>0.979687</td>\n",
       "      <td>0.979687</td>\n",
       "      <td>2020-03-07T15:50:04+0000</td>\n",
       "      <td>I was stuck inside with my parents during Chinese New Year. Here’s what we did.</td>\n",
       "      <td>2020</td>\n",
       "      <td>3</td>\n",
       "      <td>50</td>\n",
       "      <td>2020Q1</td>\n",
       "      <td>1</td>\n",
       "      <td>0</td>\n",
       "      <td>0</td>\n",
       "      <td>0</td>\n",
       "    </tr>\n",
       "    <tr>\n",
       "      <th>1050</th>\n",
       "      <td>https://www.nytimes.com/video/opinion/100000007262438/club-quarantine.html</td>\n",
       "      <td>POSITIVE</td>\n",
       "      <td>0.978342</td>\n",
       "      <td>0.978342</td>\n",
       "      <td>2020-09-22T19:00:19+0000</td>\n",
       "      <td>When the coronavirus shut down clubs around the world, I found community in a queer dance party on Zoom.</td>\n",
       "      <td>2020</td>\n",
       "      <td>9</td>\n",
       "      <td>0</td>\n",
       "      <td>2020Q3</td>\n",
       "      <td>0</td>\n",
       "      <td>0</td>\n",
       "      <td>1</td>\n",
       "      <td>0</td>\n",
       "    </tr>\n",
       "    <tr>\n",
       "      <th>1051</th>\n",
       "      <td>https://www.nytimes.com/video/technology/100000009494471/the-new-chatgpt-hype-vs-reality.html</td>\n",
       "      <td>NEGATIVE</td>\n",
       "      <td>0.996621</td>\n",
       "      <td>-0.996621</td>\n",
       "      <td>2024-05-31T09:05:07+0000</td>\n",
       "      <td>Our tech columnist reviews GPT-4o, OpenAI’s latest chatbot technology, in its partly finished state.</td>\n",
       "      <td>2024</td>\n",
       "      <td>5</td>\n",
       "      <td>5</td>\n",
       "      <td>2024Q2</td>\n",
       "      <td>0</td>\n",
       "      <td>0</td>\n",
       "      <td>0</td>\n",
       "      <td>1</td>\n",
       "    </tr>\n",
       "    <tr>\n",
       "      <th>1052</th>\n",
       "      <td>https://www.nytimes.com/video/us/100000008742122/monterey-park-survivor.html</td>\n",
       "      <td>NEGATIVE</td>\n",
       "      <td>0.995886</td>\n",
       "      <td>-0.995886</td>\n",
       "      <td>2023-01-26T17:49:08+0000</td>\n",
       "      <td>Mike Zhang, 71, was filming videos of the Lunar New Year celebration at Star Ballroom Dance Studio on his phone just minutes before a gunman entered and killed 11 people on Jan. 21.</td>\n",
       "      <td>2023</td>\n",
       "      <td>1</td>\n",
       "      <td>49</td>\n",
       "      <td>2023Q1</td>\n",
       "      <td>1</td>\n",
       "      <td>0</td>\n",
       "      <td>0</td>\n",
       "      <td>0</td>\n",
       "    </tr>\n",
       "    <tr>\n",
       "      <th>1053</th>\n",
       "      <td>https://www.nytimes.com/video/world/asia/100000009297346/china-travel-weather-lunar-new-year.html</td>\n",
       "      <td>NEGATIVE</td>\n",
       "      <td>0.988239</td>\n",
       "      <td>-0.988239</td>\n",
       "      <td>2024-02-05T04:42:16+0000</td>\n",
       "      <td>Footage from China Central Television, a state media outlet, showed vehicles moving slowly on highways blanketed by snow as the Lunar New Year travel rush begins.</td>\n",
       "      <td>2024</td>\n",
       "      <td>2</td>\n",
       "      <td>42</td>\n",
       "      <td>2024Q1</td>\n",
       "      <td>1</td>\n",
       "      <td>0</td>\n",
       "      <td>0</td>\n",
       "      <td>0</td>\n",
       "    </tr>\n",
       "  </tbody>\n",
       "</table>\n",
       "<p>1054 rows × 14 columns</p>\n",
       "</div>"
      ],
      "text/plain": [
       "                                                                                                web_url  \\\n",
       "0                              https://www.nytimes.com/2020/01/01/opinion/north-korea-nuclear-test.html   \n",
       "1                                 https://www.nytimes.com/2020/01/01/parenting/money-rage-and-love.html   \n",
       "2           https://www.nytimes.com/2020/01/01/smarter-living/5-cheap-ish-things-for-your-home-gym.html   \n",
       "3                                         https://www.nytimes.com/2020/01/01/us/new-year-shootings.html   \n",
       "4             https://www.nytimes.com/2020/01/01/well/move/exercise-physical-activity-workout-time.html   \n",
       "...                                                                                                 ...   \n",
       "1049       https://www.nytimes.com/video/opinion/100000007013675/self-quarantined-for-the-holidays.html   \n",
       "1050                         https://www.nytimes.com/video/opinion/100000007262438/club-quarantine.html   \n",
       "1051      https://www.nytimes.com/video/technology/100000009494471/the-new-chatgpt-hype-vs-reality.html   \n",
       "1052                       https://www.nytimes.com/video/us/100000008742122/monterey-park-survivor.html   \n",
       "1053  https://www.nytimes.com/video/world/asia/100000009297346/china-travel-weather-lunar-new-year.html   \n",
       "\n",
       "         label     score  article_sentiment                  pub_date  \\\n",
       "0     NEGATIVE  0.997801          -0.997801  2020-01-01T16:00:09+0000   \n",
       "1     POSITIVE  0.999756           0.999756  2020-01-01T17:20:06+0000   \n",
       "2     POSITIVE  0.999846           0.999846  2020-01-01T23:32:49+0000   \n",
       "3     NEGATIVE  0.944478          -0.944478  2020-01-01T23:21:49+0000   \n",
       "4     POSITIVE  0.986820           0.986820  2020-01-01T10:00:13+0000   \n",
       "...        ...       ...                ...                       ...   \n",
       "1049  POSITIVE  0.979687           0.979687  2020-03-07T15:50:04+0000   \n",
       "1050  POSITIVE  0.978342           0.978342  2020-09-22T19:00:19+0000   \n",
       "1051  NEGATIVE  0.996621          -0.996621  2024-05-31T09:05:07+0000   \n",
       "1052  NEGATIVE  0.995886          -0.995886  2023-01-26T17:49:08+0000   \n",
       "1053  NEGATIVE  0.988239          -0.988239  2024-02-05T04:42:16+0000   \n",
       "\n",
       "                                                                                                                                                                                                                                                                               lead_paragraph  \\\n",
       "0     Is anyone surprised? On the last day of 2019, after months of threatening the United States to ease its nuclear standoff with \"a bold decision\" by year’s end — or else — the leader of North Korea darkly announced that the country would unveil a new strategic weapon \"in the ne...   \n",
       "1     Happy New Year! On this first day of 2020, I’m reflecting on the parenting stories that moved me from the past year. What I love about covering this beat is that how we raise children touches on every topic imaginable: Money, privilege, politics, race, business and technology...   \n",
       "2     Kick off the new year right and pick up the brand-new Smarter Living book! We’ve pulled together the best of S.L., plus loads of new advice and guidance, to give you smart, actionable life tips on how to improve your career, your home, your finances, your relationships and yo...   \n",
       "3     Just minutes into New Year’s Day, a teenage boy was shot and wounded in the leg on the North Side of St. Louis. A few minutes later, four people were shot in a different neighborhood, three fatally. By morning, the police were investigating 10 shootings, including five deaths...   \n",
       "4                          If, like many of us, your New Year’s resolution is to find more time to exercise, you may be in luck. According to a recent study of how Americans typically spend their waking hours, almost all of us have far more leisure time available than we think we do.    \n",
       "...                                                                                                                                                                                                                                                                                       ...   \n",
       "1049                                                                                                                                                                                                          I was stuck inside with my parents during Chinese New Year. Here’s what we did.   \n",
       "1050                                                                                                                                                                                 When the coronavirus shut down clubs around the world, I found community in a queer dance party on Zoom.   \n",
       "1051                                                                                                                                                                                     Our tech columnist reviews GPT-4o, OpenAI’s latest chatbot technology, in its partly finished state.   \n",
       "1052                                                                                                    Mike Zhang, 71, was filming videos of the Lunar New Year celebration at Star Ballroom Dance Studio on his phone just minutes before a gunman entered and killed 11 people on Jan. 21.   \n",
       "1053                                                                                                                       Footage from China Central Television, a state media outlet, showed vehicles moving slowly on highways blanketed by snow as the Lunar New Year travel rush begins.   \n",
       "\n",
       "      Year  Month  Minute Quarter  New Year  Wordle  Zoom  GPT Model  \n",
       "0     2020      1       0  2020Q1         1       0     0          0  \n",
       "1     2020      1      20  2020Q1         1       0     0          0  \n",
       "2     2020      1      32  2020Q1         1       0     0          0  \n",
       "3     2020      1      21  2020Q1         1       0     0          0  \n",
       "4     2020      1       0  2020Q1         1       0     0          0  \n",
       "...    ...    ...     ...     ...       ...     ...   ...        ...  \n",
       "1049  2020      3      50  2020Q1         1       0     0          0  \n",
       "1050  2020      9       0  2020Q3         0       0     1          0  \n",
       "1051  2024      5       5  2024Q2         0       0     0          1  \n",
       "1052  2023      1      49  2023Q1         1       0     0          0  \n",
       "1053  2024      2      42  2024Q1         1       0     0          0  \n",
       "\n",
       "[1054 rows x 14 columns]"
      ]
     },
     "execution_count": 16,
     "metadata": {},
     "output_type": "execute_result"
    }
   ],
   "source": [
    "sentiment = pd.read_csv(\"data/nyt_sentiments.csv\")\n",
    "sentiment = sentiment.set_index(\"web_url\")\n",
    "sentiment[\"article_sentiment\"] = sentiment[\"score\"] * sentiment[\"label\"].apply(lambda x: 1 if x == \"POSITIVE\" else -1)\n",
    "news_df_sentiment = sentiment.merge(news_df_filtered, on=\"web_url\")\n",
    "news_df_sentiment.drop(columns=[\"label\", \"score\"])\n",
    "news_df_sentiment"
   ]
  },
  {
   "cell_type": "markdown",
   "metadata": {
    "deletable": false,
    "editable": false
   },
   "source": [
    "<!-- BEGIN QUESTION -->\n",
    "\n",
    "<br>\n",
    "\n",
    "---\n",
    "###  Part 3\n",
    "\n",
    "I will now visualize the distribution of article sentiment."
   ]
  },
  {
   "cell_type": "markdown",
   "metadata": {
    "deletable": false,
    "editable": false
   },
   "source": [
    "Using `seaborn`, I created a histogram to visualize the distribution of `article_sentiment`."
   ]
  },
  {
   "cell_type": "code",
   "execution_count": 17,
   "metadata": {
    "deletable": false,
    "editable": false
   },
   "outputs": [
    {
     "data": {
      "image/png": "[encoded data removed]",
      "text/plain": [
       "<Figure size 640x480 with 1 Axes>"
      ]
     },
     "metadata": {},
     "output_type": "display_data"
    }
   ],
   "source": [
    "sns.histplot(data=news_df_sentiment, x='article_sentiment')\n",
    "plt.xlabel('Sentiment of Leading Paragraphs')\n",
    "plt.title('Histogram of Leading Paragraph Sentiment')\n",
    "plt.plot();"
   ]
  },
  {
   "cell_type": "markdown",
   "metadata": {
    "tags": [
     "otter_answer_cell"
    ]
   },
   "source": [
    "From the graph above, I could notice that most sentiment of leading paragraphs are either positive or negative. It is hard to find sentiments between -0.7 and 0.7. It shows how hard it is create a sentiment in the range between -0.7 and 0.7."
   ]
  },
  {
   "cell_type": "markdown",
   "metadata": {
    "deletable": false,
    "editable": false
   },
   "source": [
    "<!-- END QUESTION -->\n",
    "\n",
    "<br>\n",
    "\n",
    "---\n",
    "###  Part 3\n",
    "\n",
    "I will audit my data to better understand how well the sentiment analysis model works with our specific dataset. It's good practice to compare our assumptions to model outputs.\n",
    "\n",
    "I will assign `top_positive` and `top_negative` to `DataFrame`s containing the five articles with the highest `article_sentiment` values and the five lowest `article_sentiment` values, respectively. The `DataFrame`s should have the columns `lead_paragraph` and `article_sentiment`."
   ]
  },
  {
   "cell_type": "code",
   "execution_count": 18,
   "metadata": {
    "tags": [
     "otter_answer_cell"
    ]
   },
   "outputs": [
    {
     "data": {
      "text/html": [
       "<div>\n",
       "<style scoped>\n",
       "    .dataframe tbody tr th:only-of-type {\n",
       "        vertical-align: middle;\n",
       "    }\n",
       "\n",
       "    .dataframe tbody tr th {\n",
       "        vertical-align: top;\n",
       "    }\n",
       "\n",
       "    .dataframe thead th {\n",
       "        text-align: right;\n",
       "    }\n",
       "</style>\n",
       "<table border=\"1\" class=\"dataframe\">\n",
       "  <thead>\n",
       "    <tr style=\"text-align: right;\">\n",
       "      <th></th>\n",
       "      <th>lead_paragraph</th>\n",
       "      <th>article_sentiment</th>\n",
       "    </tr>\n",
       "  </thead>\n",
       "  <tbody>\n",
       "    <tr>\n",
       "      <th>896</th>\n",
       "      <td>Happy New Year, audiophiles!</td>\n",
       "      <td>0.999876</td>\n",
       "    </tr>\n",
       "    <tr>\n",
       "      <th>364</th>\n",
       "      <td>It’s easy to think about Twyla Tharp and immediately picture her body of work. It’s impressive. Tharp has choreographed more than 150 dances for just about every surface and site imaginable: the concert stage, parks, Broadway, film, ice and now Zoom.</td>\n",
       "      <td>0.999872</td>\n",
       "    </tr>\n",
       "    <tr>\n",
       "      <th>487</th>\n",
       "      <td>Merry Christmas, happy Hanukkah, joyous Kwanzaa and happy New Year.</td>\n",
       "      <td>0.999871</td>\n",
       "    </tr>\n",
       "    <tr>\n",
       "      <th>632</th>\n",
       "      <td>Merry Christmas, happy Hanukkah, joyous Kwanzaa and happy New Year.</td>\n",
       "      <td>0.999871</td>\n",
       "    </tr>\n",
       "    <tr>\n",
       "      <th>537</th>\n",
       "      <td>Happy New Year!</td>\n",
       "      <td>0.999869</td>\n",
       "    </tr>\n",
       "  </tbody>\n",
       "</table>\n",
       "</div>"
      ],
      "text/plain": [
       "                                                                                                                                                                                                                                                 lead_paragraph  \\\n",
       "896                                                                                                                                                                                                                                Happy New Year, audiophiles!   \n",
       "364  It’s easy to think about Twyla Tharp and immediately picture her body of work. It’s impressive. Tharp has choreographed more than 150 dances for just about every surface and site imaginable: the concert stage, parks, Broadway, film, ice and now Zoom.   \n",
       "487                                                                                                                                                                                         Merry Christmas, happy Hanukkah, joyous Kwanzaa and happy New Year.   \n",
       "632                                                                                                                                                                                         Merry Christmas, happy Hanukkah, joyous Kwanzaa and happy New Year.   \n",
       "537                                                                                                                                                                                                                                             Happy New Year!   \n",
       "\n",
       "     article_sentiment  \n",
       "896           0.999876  \n",
       "364           0.999872  \n",
       "487           0.999871  \n",
       "632           0.999871  \n",
       "537           0.999869  "
      ]
     },
     "metadata": {},
     "output_type": "display_data"
    },
    {
     "data": {
      "text/html": [
       "<div>\n",
       "<style scoped>\n",
       "    .dataframe tbody tr th:only-of-type {\n",
       "        vertical-align: middle;\n",
       "    }\n",
       "\n",
       "    .dataframe tbody tr th {\n",
       "        vertical-align: top;\n",
       "    }\n",
       "\n",
       "    .dataframe thead th {\n",
       "        text-align: right;\n",
       "    }\n",
       "</style>\n",
       "<table border=\"1\" class=\"dataframe\">\n",
       "  <thead>\n",
       "    <tr style=\"text-align: right;\">\n",
       "      <th></th>\n",
       "      <th>lead_paragraph</th>\n",
       "      <th>article_sentiment</th>\n",
       "    </tr>\n",
       "  </thead>\n",
       "  <tbody>\n",
       "    <tr>\n",
       "      <th>820</th>\n",
       "      <td>The day after Labor Day has got to be one of the worst days in the American calendar year. (Not quite as bad as the first workday after New Year’s, but worth mentioning in the same breath.)</td>\n",
       "      <td>-0.999777</td>\n",
       "    </tr>\n",
       "    <tr>\n",
       "      <th>91</th>\n",
       "      <td>One day this quarantine, who can say which, I encountered the following pieces of information: Zoom, the videoconferencing company, saw its stock hit a new high; Zūm, a ride-sharing venture, cut its work force by a third; and Zume, the robot pizza start-up, failed to raise mo...</td>\n",
       "      <td>-0.999759</td>\n",
       "    </tr>\n",
       "    <tr>\n",
       "      <th>178</th>\n",
       "      <td>In the beginning there was Covid-19, and the tribe of the white collars rent their garments, for their workdays were a formless void, and all their rituals were gone. New routines came to replace the old, but the routines were scattered, and there was chaos around how best to...</td>\n",
       "      <td>-0.999729</td>\n",
       "    </tr>\n",
       "    <tr>\n",
       "      <th>936</th>\n",
       "      <td>There’s a problem with leading artificial intelligence tools like ChatGPT, Gemini and Claude: We don’t really know how smart they are.</td>\n",
       "      <td>-0.999702</td>\n",
       "    </tr>\n",
       "    <tr>\n",
       "      <th>186</th>\n",
       "      <td>I was in Brooklyn on a Zoom meeting in mid-March, when I saw my mom’s name come up on my cellphone. \"Your dad’s not feeling well,\" she said.</td>\n",
       "      <td>-0.999698</td>\n",
       "    </tr>\n",
       "  </tbody>\n",
       "</table>\n",
       "</div>"
      ],
      "text/plain": [
       "                                                                                                                                                                                                                                                                              lead_paragraph  \\\n",
       "820                                                                                            The day after Labor Day has got to be one of the worst days in the American calendar year. (Not quite as bad as the first workday after New Year’s, but worth mentioning in the same breath.)   \n",
       "91   One day this quarantine, who can say which, I encountered the following pieces of information: Zoom, the videoconferencing company, saw its stock hit a new high; Zūm, a ride-sharing venture, cut its work force by a third; and Zume, the robot pizza start-up, failed to raise mo...   \n",
       "178  In the beginning there was Covid-19, and the tribe of the white collars rent their garments, for their workdays were a formless void, and all their rituals were gone. New routines came to replace the old, but the routines were scattered, and there was chaos around how best to...   \n",
       "936                                                                                                                                                   There’s a problem with leading artificial intelligence tools like ChatGPT, Gemini and Claude: We don’t really know how smart they are.   \n",
       "186                                                                                                                                             I was in Brooklyn on a Zoom meeting in mid-March, when I saw my mom’s name come up on my cellphone. \"Your dad’s not feeling well,\" she said.   \n",
       "\n",
       "     article_sentiment  \n",
       "820          -0.999777  \n",
       "91           -0.999759  \n",
       "178          -0.999729  \n",
       "936          -0.999702  \n",
       "186          -0.999698  "
      ]
     },
     "metadata": {},
     "output_type": "display_data"
    }
   ],
   "source": [
    "top_positive = news_df_sentiment[['lead_paragraph', 'article_sentiment']].sort_values(by='article_sentiment', ascending=False).head(5)\n",
    "top_negative = news_df_sentiment[['lead_paragraph', 'article_sentiment']].sort_values(by='article_sentiment', ascending=True).head(5)\n",
    "\n",
    "display(top_positive, top_negative)"
   ]
  },
  {
   "cell_type": "markdown",
   "metadata": {
    "deletable": false,
    "editable": false
   },
   "source": [
    "<!-- END QUESTION -->\n",
    "\n",
    "<br>\n",
    "\n",
    "---"
   ]
  },
  {
   "cell_type": "markdown",
   "metadata": {},
   "source": [
    "### Continued Visualizing\n",
    "I'll continue to visualize the `news_df_sentiment` data. The cell below adds a new datetime column `date` to `news_df_sentiment`. The datetime format will make visualization easier."
   ]
  },
  {
   "cell_type": "code",
   "execution_count": 19,
   "metadata": {},
   "outputs": [],
   "source": [
    "# Combine the columns into a single date string in 'YYYY-MM-DD' format\n",
    "news_df_sentiment['date_str'] = (\n",
    "    news_df_sentiment['Year'].astype(str)\n",
    "    + '-' + news_df_sentiment['Month'].astype(str)\n",
    "    + '-' + news_df_sentiment['pub_date'].str[8:10]\n",
    ")\n",
    "\n",
    "# Convert the combined string to a datetime object using pd.to_datetime()\n",
    "news_df_sentiment['date'] = pd.to_datetime(news_df_sentiment['date_str'], format='%Y-%m-%d', errors='coerce')"
   ]
  },
  {
   "cell_type": "markdown",
   "metadata": {},
   "source": [
    "Below, I will visualize the change in sentiment in the topic `Zoom` over time, using `sns.lineplot` to plot `date` on the x-axis and `article_sentiment` on the y-axis."
   ]
  },
  {
   "cell_type": "code",
   "execution_count": 20,
   "metadata": {},
   "outputs": [
    {
     "data": {
      "image/png": "[encoded data removed]",
      "text/plain": [
       "<Figure size 1200x500 with 1 Axes>"
      ]
     },
     "metadata": {},
     "output_type": "display_data"
    }
   ],
   "source": [
    "fig, ax = plt.subplots(figsize=(12, 5))\n",
    "sns.lineplot(data=news_df_sentiment[news_df_sentiment[\"Zoom\"] > 0], x='date', y='article_sentiment')\n",
    "plt.xticks(rotation=70);"
   ]
  },
  {
   "cell_type": "markdown",
   "metadata": {},
   "source": [
    "**This plot is not very pretty!** This isn't because of any errors on your part. Instead, we need to use a different visualization method to understand the data."
   ]
  },
  {
   "cell_type": "markdown",
   "metadata": {
    "deletable": false,
    "editable": false
   },
   "source": [
    "<!-- END QUESTION -->\n",
    "\n",
    "<br>\n",
    "\n",
    "---"
   ]
  },
  {
   "cell_type": "markdown",
   "metadata": {},
   "source": [
    "### Takeaways\n",
    "\n",
    "In this project, I used a language model to evaluate the sentiment of news articles and quantify text data (qualitative data) so that we could perform data analysis on a large set of journalism data. Though I used the [HuggingFace DistilBERT](https://huggingface.co/distilbert/distilbert-base-uncased-finetuned-sst-2-english) model, there are thousands of language models available for use, and with rapid innovations in the NLP research space, there are new models frequently being created. In fact, I am using a different model for this homework one year ago, which reflects how quickly the NLP field progresses. \n",
    "\n",
    "Different models evaluate sentiment differently. I noticed that the DistilBERT model struggles with evaluating neutral sentences and often gives sentences a high polarity score. When evaluating which models to use in projects, it's useful to test them on small inputs of data to see how they perform, like I did by testing out various sentences! Different models may perform differently (often due to how the model was trained and created), so it's important to understand these differences when deciding what model to use for data.\n"
   ]
  },
  {
   "cell_type": "markdown",
   "metadata": {},
   "source": [
    " "
   ]
  }
 ],
 "metadata": {
  "kernelspec": {
   "display_name": "Python 3 (ipykernel)",
   "language": "python",
   "name": "python3"
  },
  "language_info": {
   "codemirror_mode": {
    "name": "ipython",
    "version": 3
   },
   "file_extension": ".py",
   "mimetype": "text/x-python",
   "name": "python",
   "nbconvert_exporter": "python",
   "pygments_lexer": "ipython3",
   "version": "3.9.13"
  },
  "otter": {
   "OK_FORMAT": true,
   "require_no_pdf_confirmation": true,
   "tests": {
    "q1a": {
     "name": "q1a",
     "points": 1,
     "suites": [
      {
       "cases": [
        {
         "code": ">>> q1a.startswith('[{\"web_url\":\"https:\\\\/\\\\/www.nytimes.com\\\\/2019\\\\/01\\\\/01\\\\/us\\\\/politics\\\\/elizabeth-warren-president.html\"')\nTrue",
         "hidden": false,
         "locked": false
        }
       ],
       "scored": true,
       "setup": "",
       "teardown": "",
       "type": "doctest"
      }
     ]
    },
    "q1b": {
     "name": "q1b",
     "points": 1,
     "suites": [
      {
       "cases": [
        {
         "code": ">>> q1b.upper() in ['A', 'B', 'C', 'D']\nTrue",
         "hidden": false,
         "locked": false,
         "points": 0
        }
       ],
       "scored": true,
       "setup": "",
       "teardown": "",
       "type": "doctest"
      }
     ]
    },
    "q1c": {
     "name": "q1c",
     "points": 1,
     "suites": [
      {
       "cases": [
        {
         "code": ">>> set(['web_url', 'pub_date', 'lead_paragraph']) == set(news_df.columns)\nTrue",
         "hidden": false,
         "locked": false
        },
        {
         "code": ">>> news_df.shape == (1885, 3)\nTrue",
         "hidden": false,
         "locked": false
        },
        {
         "code": ">>> news_df.loc[50, 'web_url'] == 'https://www.nytimes.com/2019/07/30/arts/television/four-weddings-and-a-funeral-review-hulu.html'\nTrue",
         "hidden": false,
         "locked": false
        },
        {
         "code": ">>> news_df.loc[203, 'pub_date'] == '2020-06-02T19:31:01+0000'\nTrue",
         "hidden": false,
         "locked": false
        },
        {
         "code": ">>> news_df.loc[919, 'lead_paragraph'] == 'At the Chelsea Piers outdoor golf club, on a recent unseasonably warm Monday afternoon, 55 people were playing golf by 3:45, and a handful were sipping beers. At CutLoose hair salon, in Brooklyn, N.Y., the stylists now watch their clients take Zoom meetings from the salon chairs. And at Skyway Golf Course, in Jersey City, N.J., Steve Mills, a general manager, has noticed that weekday afternoons are jammed with a new group of golfers.'\nTrue",
         "hidden": false,
         "locked": false
        }
       ],
       "scored": true,
       "setup": "",
       "teardown": "",
       "type": "doctest"
      }
     ]
    },
    "q2ai": {
     "name": "q2ai",
     "points": 2,
     "suites": [
      {
       "cases": [
        {
         "code": ">>> {'Month', 'Year', 'Minute'} == set(dates.columns).intersection({'Month', 'Year', 'Minute'})\nTrue",
         "hidden": false,
         "locked": false
        },
        {
         "code": ">>> dates['Year'].dtype == int\nTrue",
         "hidden": false,
         "locked": false
        },
        {
         "code": ">>> dates['Month'].dtype == int\nTrue",
         "hidden": false,
         "locked": false
        },
        {
         "code": ">>> dates['Minute'].dtype == int\nTrue",
         "hidden": false,
         "locked": false
        }
       ],
       "scored": true,
       "setup": "",
       "teardown": "",
       "type": "doctest"
      }
     ]
    },
    "q2aii": {
     "name": "q2aii",
     "points": 1,
     "suites": [
      {
       "cases": [
        {
         "code": ">>> set(news_df_dates.columns) == {'Minute', 'Month', 'Year', 'lead_paragraph', 'pub_date', 'web_url'}\nTrue",
         "hidden": false,
         "locked": false
        }
       ],
       "scored": true,
       "setup": "",
       "teardown": "",
       "type": "doctest"
      }
     ]
    },
    "q2aiii": {
     "name": "q2aiii",
     "points": 2,
     "suites": [
      {
       "cases": [
        {
         "code": ">>> 'Quarter' in news_df_dates.columns\nTrue",
         "hidden": false,
         "locked": false
        },
        {
         "code": ">>> news_df_dates.loc[938, 'Quarter'] == '2023Q1'\nTrue",
         "hidden": false,
         "locked": false
        },
        {
         "code": ">>> news_df_dates.loc[201, 'Quarter'] == '2020Q2'\nTrue",
         "hidden": false,
         "locked": false
        },
        {
         "code": ">>> news_df_dates.loc[734, 'Quarter'] == '2022Q3'\nTrue",
         "hidden": false,
         "locked": false
        },
        {
         "code": ">>> news_df_dates.loc[594, 'Quarter'] == '2021Q4'\nTrue",
         "hidden": false,
         "locked": false
        }
       ],
       "scored": true,
       "setup": "",
       "teardown": "",
       "type": "doctest"
      }
     ]
    },
    "q2bi": {
     "name": "q2bi",
     "points": 1,
     "suites": [
      {
       "cases": [
        {
         "code": ">>> q2bi.upper() in ['A', 'B', 'C']\nTrue",
         "hidden": false,
         "locked": false,
         "points": 0
        }
       ],
       "scored": true,
       "setup": "",
       "teardown": "",
       "type": "doctest"
      }
     ]
    },
    "q2bii": {
     "name": "q2bii",
     "points": 1,
     "suites": [
      {
       "cases": [
        {
         "code": ">>> q2bii.upper() in ['A', 'B', 'C']\nTrue",
         "hidden": false,
         "locked": false,
         "points": 0
        }
       ],
       "scored": true,
       "setup": "",
       "teardown": "",
       "type": "doctest"
      }
     ]
    },
    "q2c": {
     "name": "q2c",
     "points": 2,
     "suites": [
      {
       "cases": [
        {
         "code": ">>> re.findall(modified_pattern, '\"Mitochondria is the powerhouse of the cell.\"') == ['\"Mitochondria is the powerhouse of the cell.\"']\nTrue",
         "hidden": false,
         "locked": false
        },
        {
         "code": ">>> re.findall(modified_pattern, 'there is no quote in this sentence') == []\nTrue",
         "hidden": false,
         "locked": false
        },
        {
         "code": ">>> re.findall(modified_pattern, 'Brandon said, \"Recently, DATA C100 course staffs have hosted a social event with staffs from DATA C8.\"') == ['\"Recently, DATA C100 course staffs have hosted a social event with staffs from DATA C8.\"']\nTrue",
         "hidden": false,
         "locked": false
        },
        {
         "code": ">>> re.findall(modified_pattern, '\"R is great,\" a TA said, \"but have you tried using Python?\"') == ['\"R is great,\" a TA said, \"but have you tried using Python?\"']\nTrue",
         "hidden": false,
         "locked": false
        },
        {
         "code": ">>> re.findall(modified_pattern, '\"How are your classes?\" the student asked. \"Super challenging! But a lot of fun!\" said their roommate.') == ['\"How are your classes?\"', '\"Super challenging! But a lot of fun!\"']\nTrue",
         "hidden": false,
         "locked": false
        }
       ],
       "scored": true,
       "setup": "",
       "teardown": "",
       "type": "doctest"
      }
     ]
    },
    "q2d": {
     "name": "q2d",
     "points": 2,
     "suites": [
      {
       "cases": [
        {
         "code": ">>> news_df_dates.shape[0] == 1885\nTrue",
         "hidden": false,
         "locked": false
        },
        {
         "code": ">>> set(news_df_dates.columns) == {'GPT Model', 'Minute', 'Month', 'New Year', 'Quarter', 'Wordle', 'Year', 'Zoom', 'lead_paragraph', 'pub_date', 'web_url'}\nTrue",
         "hidden": false,
         "locked": false
        }
       ],
       "scored": true,
       "setup": "",
       "teardown": "",
       "type": "doctest"
      }
     ]
    },
    "q2e": {
     "name": "q2e",
     "points": 1,
     "suites": [
      {
       "cases": [
        {
         "code": ">>> topic_mentions.shape == (24, 4)\nTrue",
         "hidden": false,
         "locked": false
        },
        {
         "code": ">>> set(topic_mentions.columns) == {'Zoom', 'New Year', 'GPT Model', 'Wordle'}\nTrue",
         "hidden": false,
         "locked": false
        },
        {
         "code": ">>> set(topic_mentions.index) == {'2019Q1', '2019Q2', '2019Q3', '2019Q4', '2020Q1', '2020Q2', '2020Q3', '2020Q4', '2021Q1', '2021Q2', '2021Q3', '2021Q4', '2022Q1', '2022Q2', '2022Q3', '2022Q4', '2023Q1', '2023Q2', '2023Q3', '2023Q4', '2024Q1', '2024Q2', '2024Q3', '2024Q4'}\nTrue",
         "hidden": false,
         "locked": false
        }
       ],
       "scored": true,
       "setup": "",
       "teardown": "",
       "type": "doctest"
      }
     ]
    },
    "q3a": {
     "name": "q3a",
     "points": 1,
     "suites": [
      {
       "cases": [
        {
         "code": ">>> (sentiment_analysis(less_polar_sentence)[0]['score'] < 0.8) == True\nTrue",
         "hidden": false,
         "locked": false
        }
       ],
       "scored": true,
       "setup": "",
       "teardown": "",
       "type": "doctest"
      }
     ]
    },
    "q3bi": {
     "name": "q3bi",
     "points": 1,
     "suites": [
      {
       "cases": [
        {
         "code": ">>> news_df_filtered.shape == (1135, 11)\nTrue",
         "hidden": false,
         "locked": false
        }
       ],
       "scored": true,
       "setup": "",
       "teardown": "",
       "type": "doctest"
      }
     ]
    },
    "q3bii": {
     "name": "q3bii",
     "points": 1,
     "suites": [
      {
       "cases": [
        {
         "code": ">>> 'article_sentiment' in news_df_sentiment.columns\nTrue",
         "hidden": false,
         "locked": false
        },
        {
         "code": ">>> news_df_sentiment.shape == (1054, 12)\nTrue",
         "hidden": false,
         "locked": false
        },
        {
         "code": ">>> set(news_df_sentiment.columns) == {'GPT Model', 'Minute', 'Month', 'New Year', 'Quarter', 'Wordle', 'Year', 'Zoom', 'lead_paragraph', 'pub_date', 'article_sentiment', 'web_url'}\nTrue",
         "hidden": false,
         "locked": false
        },
        {
         "code": ">>> news_df_sentiment['article_sentiment'].iloc[1] <= 1 and news_df_sentiment['article_sentiment'].iloc[1] >= -1\nTrue",
         "hidden": false,
         "locked": false
        }
       ],
       "scored": true,
       "setup": "",
       "teardown": "",
       "type": "doctest"
      }
     ]
    },
    "q3di": {
     "name": "q3di",
     "points": 1,
     "suites": [
      {
       "cases": [
        {
         "code": ">>> top_positive.shape[0] == 5\nTrue",
         "hidden": false,
         "locked": false
        },
        {
         "code": ">>> top_negative.shape[0] == 5\nTrue",
         "hidden": false,
         "locked": false
        }
       ],
       "scored": true,
       "setup": "",
       "teardown": "",
       "type": "doctest"
      }
     ]
    }
   }
  }
 },
 "nbformat": 4,
 "nbformat_minor": 4
}
